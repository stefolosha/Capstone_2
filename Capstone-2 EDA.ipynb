{
 "cells": [
  {
   "cell_type": "markdown",
   "metadata": {},
   "source": [
    "Data Storytelling\n",
    "\n",
    "  Over 200,000 accidents occured in just the five boroughs of NYC in 2018. While some car accidents are considered true   accidents' over 90% are caused by human error according to Bttlaw.com. With such a high rate of accidents considered to be caused by no external factors, would we still be able to predict the severity of an accident just by the supporting data? If so, this may support the idea that the human error fault may not be as high as commonly accepted. Items such as confusing signs, poorly lit roads, or bad drainage can all cause factors that may not be seen on the surface. "
   ]
  },
  {
   "cell_type": "code",
   "execution_count": 1,
   "metadata": {},
   "outputs": [],
   "source": [
    "import pandas as pd\n",
    "import matplotlib.pyplot as plt\n",
    "import seaborn as sns\n",
    "from datetime import datetime\n",
    "import numpy as np\n",
    "import matplotlib.image as mpimg"
   ]
  },
  {
   "cell_type": "code",
   "execution_count": 2,
   "metadata": {
    "scrolled": true
   },
   "outputs": [
    {
     "data": {
      "text/html": [
       "<div>\n",
       "<style scoped>\n",
       "    .dataframe tbody tr th:only-of-type {\n",
       "        vertical-align: middle;\n",
       "    }\n",
       "\n",
       "    .dataframe tbody tr th {\n",
       "        vertical-align: top;\n",
       "    }\n",
       "\n",
       "    .dataframe thead th {\n",
       "        text-align: right;\n",
       "    }\n",
       "</style>\n",
       "<table border=\"1\" class=\"dataframe\">\n",
       "  <thead>\n",
       "    <tr style=\"text-align: right;\">\n",
       "      <th></th>\n",
       "      <th>CRASH DATE</th>\n",
       "      <th>CRASH TIME</th>\n",
       "      <th>BOROUGH</th>\n",
       "      <th>ZIP CODE</th>\n",
       "      <th>LATITUDE</th>\n",
       "      <th>LONGITUDE</th>\n",
       "      <th>LOCATION</th>\n",
       "      <th>ON STREET NAME</th>\n",
       "      <th>CROSS STREET NAME</th>\n",
       "      <th>OFF STREET NAME</th>\n",
       "      <th>...</th>\n",
       "      <th>NUMBER OF PEDESTRIANS INJURED</th>\n",
       "      <th>NUMBER OF PEDESTRIANS KILLED</th>\n",
       "      <th>NUMBER OF CYCLIST INJURED</th>\n",
       "      <th>NUMBER OF CYCLIST KILLED</th>\n",
       "      <th>NUMBER OF MOTORIST INJURED</th>\n",
       "      <th>NUMBER OF MOTORIST KILLED</th>\n",
       "      <th>CONTRIBUTING FACTOR VEHICLE 1</th>\n",
       "      <th>COLLISION_ID</th>\n",
       "      <th>MM-DD</th>\n",
       "      <th>ON HOLIDAY</th>\n",
       "    </tr>\n",
       "  </thead>\n",
       "  <tbody>\n",
       "    <tr>\n",
       "      <th>0</th>\n",
       "      <td>2021-04-14</td>\n",
       "      <td>2021-07-24 05:32:00</td>\n",
       "      <td>NaN</td>\n",
       "      <td>NaN</td>\n",
       "      <td>NaN</td>\n",
       "      <td>NaN</td>\n",
       "      <td>NaN</td>\n",
       "      <td>BRONX WHITESTONE BRIDGE</td>\n",
       "      <td>NaN</td>\n",
       "      <td>NaN</td>\n",
       "      <td>...</td>\n",
       "      <td>0</td>\n",
       "      <td>0</td>\n",
       "      <td>0</td>\n",
       "      <td>0</td>\n",
       "      <td>0</td>\n",
       "      <td>0</td>\n",
       "      <td>Following Too Closely</td>\n",
       "      <td>4407480</td>\n",
       "      <td>04-14</td>\n",
       "      <td>False</td>\n",
       "    </tr>\n",
       "    <tr>\n",
       "      <th>1</th>\n",
       "      <td>2021-04-13</td>\n",
       "      <td>2021-07-24 21:35:00</td>\n",
       "      <td>BROOKLYN</td>\n",
       "      <td>11217.0</td>\n",
       "      <td>40.68358</td>\n",
       "      <td>-73.97617</td>\n",
       "      <td>(40.68358, -73.97617)</td>\n",
       "      <td>NaN</td>\n",
       "      <td>NaN</td>\n",
       "      <td>620       ATLANTIC AVENUE</td>\n",
       "      <td>...</td>\n",
       "      <td>1</td>\n",
       "      <td>0</td>\n",
       "      <td>0</td>\n",
       "      <td>0</td>\n",
       "      <td>0</td>\n",
       "      <td>0</td>\n",
       "      <td>Unspecified</td>\n",
       "      <td>4407147</td>\n",
       "      <td>04-13</td>\n",
       "      <td>False</td>\n",
       "    </tr>\n",
       "    <tr>\n",
       "      <th>2</th>\n",
       "      <td>2021-04-15</td>\n",
       "      <td>2021-07-24 16:15:00</td>\n",
       "      <td>NaN</td>\n",
       "      <td>NaN</td>\n",
       "      <td>NaN</td>\n",
       "      <td>NaN</td>\n",
       "      <td>NaN</td>\n",
       "      <td>HUTCHINSON RIVER PARKWAY</td>\n",
       "      <td>NaN</td>\n",
       "      <td>NaN</td>\n",
       "      <td>...</td>\n",
       "      <td>0</td>\n",
       "      <td>0</td>\n",
       "      <td>0</td>\n",
       "      <td>0</td>\n",
       "      <td>0</td>\n",
       "      <td>0</td>\n",
       "      <td>Pavement Slippery</td>\n",
       "      <td>4407665</td>\n",
       "      <td>04-15</td>\n",
       "      <td>True</td>\n",
       "    </tr>\n",
       "    <tr>\n",
       "      <th>3</th>\n",
       "      <td>2021-04-13</td>\n",
       "      <td>2021-07-24 16:00:00</td>\n",
       "      <td>BROOKLYN</td>\n",
       "      <td>11222.0</td>\n",
       "      <td>NaN</td>\n",
       "      <td>NaN</td>\n",
       "      <td>NaN</td>\n",
       "      <td>VANDERVORT AVENUE</td>\n",
       "      <td>ANTHONY STREET</td>\n",
       "      <td>NaN</td>\n",
       "      <td>...</td>\n",
       "      <td>0</td>\n",
       "      <td>0</td>\n",
       "      <td>0</td>\n",
       "      <td>0</td>\n",
       "      <td>0</td>\n",
       "      <td>0</td>\n",
       "      <td>Following Too Closely</td>\n",
       "      <td>4407811</td>\n",
       "      <td>04-13</td>\n",
       "      <td>False</td>\n",
       "    </tr>\n",
       "    <tr>\n",
       "      <th>4</th>\n",
       "      <td>2021-04-12</td>\n",
       "      <td>2021-07-24 08:25:00</td>\n",
       "      <td>NaN</td>\n",
       "      <td>NaN</td>\n",
       "      <td>0.00000</td>\n",
       "      <td>0.00000</td>\n",
       "      <td>(0.0, 0.0)</td>\n",
       "      <td>EDSON AVENUE</td>\n",
       "      <td>NaN</td>\n",
       "      <td>NaN</td>\n",
       "      <td>...</td>\n",
       "      <td>0</td>\n",
       "      <td>0</td>\n",
       "      <td>0</td>\n",
       "      <td>0</td>\n",
       "      <td>0</td>\n",
       "      <td>0</td>\n",
       "      <td>Unspecified</td>\n",
       "      <td>4406885</td>\n",
       "      <td>04-12</td>\n",
       "      <td>False</td>\n",
       "    </tr>\n",
       "  </tbody>\n",
       "</table>\n",
       "<p>5 rows × 22 columns</p>\n",
       "</div>"
      ],
      "text/plain": [
       "  CRASH DATE          CRASH TIME   BOROUGH ZIP CODE  LATITUDE  LONGITUDE  \\\n",
       "0 2021-04-14 2021-07-24 05:32:00       NaN      NaN       NaN        NaN   \n",
       "1 2021-04-13 2021-07-24 21:35:00  BROOKLYN  11217.0  40.68358  -73.97617   \n",
       "2 2021-04-15 2021-07-24 16:15:00       NaN      NaN       NaN        NaN   \n",
       "3 2021-04-13 2021-07-24 16:00:00  BROOKLYN  11222.0       NaN        NaN   \n",
       "4 2021-04-12 2021-07-24 08:25:00       NaN      NaN   0.00000    0.00000   \n",
       "\n",
       "                LOCATION                    ON STREET NAME CROSS STREET NAME  \\\n",
       "0                    NaN           BRONX WHITESTONE BRIDGE               NaN   \n",
       "1  (40.68358, -73.97617)                               NaN               NaN   \n",
       "2                    NaN          HUTCHINSON RIVER PARKWAY               NaN   \n",
       "3                    NaN                 VANDERVORT AVENUE    ANTHONY STREET   \n",
       "4             (0.0, 0.0)  EDSON AVENUE                                   NaN   \n",
       "\n",
       "                            OFF STREET NAME  ...  \\\n",
       "0                                       NaN  ...   \n",
       "1  620       ATLANTIC AVENUE                 ...   \n",
       "2                                       NaN  ...   \n",
       "3                                       NaN  ...   \n",
       "4                                       NaN  ...   \n",
       "\n",
       "   NUMBER OF PEDESTRIANS INJURED  NUMBER OF PEDESTRIANS KILLED  \\\n",
       "0                              0                             0   \n",
       "1                              1                             0   \n",
       "2                              0                             0   \n",
       "3                              0                             0   \n",
       "4                              0                             0   \n",
       "\n",
       "   NUMBER OF CYCLIST INJURED  NUMBER OF CYCLIST KILLED  \\\n",
       "0                          0                         0   \n",
       "1                          0                         0   \n",
       "2                          0                         0   \n",
       "3                          0                         0   \n",
       "4                          0                         0   \n",
       "\n",
       "   NUMBER OF MOTORIST INJURED  NUMBER OF MOTORIST KILLED  \\\n",
       "0                           0                          0   \n",
       "1                           0                          0   \n",
       "2                           0                          0   \n",
       "3                           0                          0   \n",
       "4                           0                          0   \n",
       "\n",
       "   CONTRIBUTING FACTOR VEHICLE 1  COLLISION_ID  MM-DD  ON HOLIDAY  \n",
       "0          Following Too Closely       4407480  04-14       False  \n",
       "1                    Unspecified       4407147  04-13       False  \n",
       "2              Pavement Slippery       4407665  04-15        True  \n",
       "3          Following Too Closely       4407811  04-13       False  \n",
       "4                    Unspecified       4406885  04-12       False  \n",
       "\n",
       "[5 rows x 22 columns]"
      ]
     },
     "execution_count": 2,
     "metadata": {},
     "output_type": "execute_result"
    }
   ],
   "source": [
    "pickled_file =pd.read_pickle('C:\\\\Users\\\\User\\\\Motor_Collision_NYC1.pkl')\n",
    "df = pickled_file.copy()\n",
    "df.head()\n"
   ]
  },
  {
   "cell_type": "code",
   "execution_count": 3,
   "metadata": {
    "scrolled": true
   },
   "outputs": [],
   "source": [
    "df['MM'] = df['MM-DD'].str.rsplit('-', n=1).str.get(0)\n",
    "df['BOROUGH'] = df['BOROUGH'].fillna('unlisted')\n",
    "df['Weekday'] = df['CRASH DATE'].dt.day_name()\n",
    "df['Time'] = df['CRASH TIME'].dt.time\n",
    "df['Time'] = df['Time'].astype(str)\n",
    "df['Time'] = df['Time'].str.slice(start= 0, stop = 2)\n",
    "df['Day Killed'] = df.loc[df['NUMBER OF PERSONS KILLED'] > 0].Weekday"
   ]
  },
  {
   "cell_type": "code",
   "execution_count": 4,
   "metadata": {},
   "outputs": [
    {
     "data": {
      "text/plain": [
       "CRASH DATE                       datetime64[ns]\n",
       "CRASH TIME                       datetime64[ns]\n",
       "BOROUGH                                  object\n",
       "ZIP CODE                                 object\n",
       "LATITUDE                                float64\n",
       "LONGITUDE                               float64\n",
       "LOCATION                                 object\n",
       "ON STREET NAME                           object\n",
       "CROSS STREET NAME                        object\n",
       "OFF STREET NAME                          object\n",
       "NUMBER OF PERSONS INJURED                 int64\n",
       "NUMBER OF PERSONS KILLED                  int64\n",
       "NUMBER OF PEDESTRIANS INJURED             int64\n",
       "NUMBER OF PEDESTRIANS KILLED              int64\n",
       "NUMBER OF CYCLIST INJURED                 int64\n",
       "NUMBER OF CYCLIST KILLED                  int64\n",
       "NUMBER OF MOTORIST INJURED                int64\n",
       "NUMBER OF MOTORIST KILLED                 int64\n",
       "CONTRIBUTING FACTOR VEHICLE 1          category\n",
       "COLLISION_ID                              int64\n",
       "MM-DD                                    object\n",
       "ON HOLIDAY                                 bool\n",
       "MM                                       object\n",
       "Weekday                                  object\n",
       "Time                                     object\n",
       "Day Killed                               object\n",
       "dtype: object"
      ]
     },
     "execution_count": 4,
     "metadata": {},
     "output_type": "execute_result"
    }
   ],
   "source": [
    "df.dtypes"
   ]
  },
  {
   "cell_type": "code",
   "execution_count": 14,
   "metadata": {
    "scrolled": true
   },
   "outputs": [
    {
     "data": {
      "text/plain": [
       "<function matplotlib.pyplot.show(close=None, block=None)>"
      ]
     },
     "execution_count": 14,
     "metadata": {},
     "output_type": "execute_result"
    },
    {
     "data": {
      "image/png": "[encoded data removed]",
      "text/plain": [
       "<Figure size 432x288 with 1 Axes>"
      ]
     },
     "metadata": {
      "needs_background": "light"
     },
     "output_type": "display_data"
    }
   ],
   "source": [
    "sns.countplot(data= df, x ='MM', order=('01','02','03','04','05','06','07','08','09','10','11','12') )\n",
    "plt.xlabel('Months')\n",
    "plt.ylabel('Count of Accidents')\n",
    "plt.title('Accidents sorted by Month')\n",
    "plt.show"
   ]
  },
  {
   "cell_type": "markdown",
   "metadata": {},
   "source": [
    "From the data above we can see that our lowest counts of car accidents are in the earilier months of the year, but we also need to take into account that Febrauary is only 28 days. We see a big jump in May which makes sense as more people are going outside in the warmer months, Interestingly we see that October is the month with the most accidents."
   ]
  },
  {
   "cell_type": "code",
   "execution_count": 15,
   "metadata": {},
   "outputs": [
    {
     "data": {
      "text/plain": [
       "<function matplotlib.pyplot.show(close=None, block=None)>"
      ]
     },
     "execution_count": 15,
     "metadata": {},
     "output_type": "execute_result"
    },
    {
     "data": {
      "image/png": "[encoded data removed]",
      "text/plain": [
       "<Figure size 432x288 with 1 Axes>"
      ]
     },
     "metadata": {
      "needs_background": "light"
     },
     "output_type": "display_data"
    }
   ],
   "source": [
    "sns.countplot(data= df, x ='MM-DD', )\n",
    "plt.xlabel('Days')\n",
    "plt.ylabel('Count of Accidents')\n",
    "plt.title('Accidents sorted by Day')\n",
    "plt.show"
   ]
  },
  {
   "cell_type": "code",
   "execution_count": 16,
   "metadata": {
    "scrolled": true
   },
   "outputs": [
    {
     "data": {
      "text/plain": [
       "11-21    5758\n",
       "09-12    5734\n",
       "12-18    5671\n",
       "11-15    5658\n",
       "12-14    5654\n",
       "         ... \n",
       "12-26    3891\n",
       "07-04    3609\n",
       "01-01    3537\n",
       "12-25    2693\n",
       "02-29    1072\n",
       "Name: MM-DD, Length: 366, dtype: int64"
      ]
     },
     "execution_count": 16,
     "metadata": {},
     "output_type": "execute_result"
    }
   ],
   "source": [
    "df['MM-DD'].value_counts()"
   ]
  },
  {
   "cell_type": "markdown",
   "metadata": {},
   "source": [
    "From this data we can see which days throughout history that are extremely common for accidents and uncommon, we can see that Christmas and New Years are towards the bottom along with leap year. At the top we see months later in the year, possibly due to the people traveling or weather conditions\n"
   ]
  },
  {
   "cell_type": "code",
   "execution_count": 17,
   "metadata": {},
   "outputs": [
    {
     "data": {
      "text/plain": [
       "<function matplotlib.pyplot.show(close=None, block=None)>"
      ]
     },
     "execution_count": 17,
     "metadata": {},
     "output_type": "execute_result"
    },
    {
     "data": {
      "image/png": "[encoded data removed]",
      "text/plain": [
       "<Figure size 700x350 with 1 Axes>"
      ]
     },
     "metadata": {
      "needs_background": "light"
     },
     "output_type": "display_data"
    }
   ],
   "source": [
    "plt.figure(figsize = (10,5),dpi =70)\n",
    "sns.countplot(data= df, x ='Weekday',order= ('Sunday','Monday','Tuesday','Wednesday','Thursday','Friday','Saturday') )\n",
    "plt.xlabel('Days of week')\n",
    "plt.ylabel('Count of Accidents')\n",
    "plt.title('Accidents sorted by Weekday')\n",
    "plt.show"
   ]
  },
  {
   "cell_type": "markdown",
   "metadata": {},
   "source": [
    "From this chart we can see that Friday is the most common day for accidents to occur"
   ]
  },
  {
   "cell_type": "code",
   "execution_count": 18,
   "metadata": {},
   "outputs": [
    {
     "data": {
      "image/png": "[encoded data removed]",
      "text/plain": [
       "<Figure size 432x288 with 1 Axes>"
      ]
     },
     "metadata": {
      "needs_background": "light"
     },
     "output_type": "display_data"
    }
   ],
   "source": [
    "sns.countplot(data= df, x ='Time', order = ('01','02','03','04','05','06','07','08','09','10','11','12','13','14','15','16','17','18','19','20','21','22','23','24') )\n",
    "plt.xlabel('Hours of day')\n",
    "plt.ylabel('Count of Accidents')\n",
    "plt.title('Accidents by hour')\n",
    "plt.show()"
   ]
  },
  {
   "cell_type": "code",
   "execution_count": 19,
   "metadata": {},
   "outputs": [
    {
     "data": {
      "text/plain": [
       "<function matplotlib.pyplot.show(close=None, block=None)>"
      ]
     },
     "execution_count": 19,
     "metadata": {},
     "output_type": "execute_result"
    },
    {
     "data": {
      "image/png": "[encoded data removed]",
      "text/plain": [
       "<Figure size 432x288 with 1 Axes>"
      ]
     },
     "metadata": {
      "needs_background": "light"
     },
     "output_type": "display_data"
    }
   ],
   "source": [
    "sns.countplot(data= df, x ='BOROUGH',order= df['BOROUGH'].value_counts().index )\n",
    "plt.xlabel('Borough')\n",
    "plt.ylabel('Count of Accidents')\n",
    "plt.title('Accidents sorted by Borough')\n",
    "plt.show"
   ]
  },
  {
   "cell_type": "code",
   "execution_count": 20,
   "metadata": {},
   "outputs": [
    {
     "data": {
      "text/plain": [
       "<function matplotlib.pyplot.show(close=None, block=None)>"
      ]
     },
     "execution_count": 20,
     "metadata": {},
     "output_type": "execute_result"
    },
    {
     "data": {
      "image/png": "[encoded data removed]",
      "text/plain": [
       "<Figure size 700x350 with 1 Axes>"
      ]
     },
     "metadata": {
      "needs_background": "light"
     },
     "output_type": "display_data"
    }
   ],
   "source": [
    "plt.figure(figsize = (10,5),dpi =70)\n",
    "killed_b = df.groupby('BOROUGH')['NUMBER OF PERSONS KILLED'].aggregate(np.sum).sort_values(ascending= False)\n",
    "plt.bar(height = killed_b, x= killed_b.index, width = .5,  )\n",
    "plt.xlabel('Borough')\n",
    "plt.ylabel('Count of Deaths')\n",
    "plt.title('Deaths sorted by Borough')\n",
    "plt.show"
   ]
  },
  {
   "cell_type": "markdown",
   "metadata": {},
   "source": [
    "This provides us with a little more insight, Suprsinngly while Manhattan is the most densely populated part of NYC is only ranks third out of the five boroughs. Brooklyn leads the way with the most accidents"
   ]
  },
  {
   "cell_type": "code",
   "execution_count": 21,
   "metadata": {},
   "outputs": [
    {
     "name": "stdout",
     "output_type": "stream",
     "text": [
      "{'Sunday': 348, 'Monday': 347, 'Tuesday': 313, 'Wednesday': 285, 'Thursday': 306, 'Friday': 330, 'Saturday': 370}\n"
     ]
    }
   ],
   "source": [
    "monday ={'Sunday' : df.loc[df['Weekday'] == 'Sunday']['NUMBER OF PERSONS KILLED'].aggregate(np.sum),\n",
    "         'Monday' :df.loc[df['Weekday'] == 'Monday']['NUMBER OF PERSONS KILLED'].aggregate(np.sum),\n",
    "     'Tuesday' :df.loc[df['Weekday'] == 'Tuesday']['NUMBER OF PERSONS KILLED'].aggregate(np.sum),\n",
    "    'Wednesday' : df.loc[df['Weekday'] == 'Wednesday']['NUMBER OF PERSONS KILLED'].aggregate(np.sum),\n",
    "    'Thursday' :df.loc[df['Weekday'] == 'Thursday']['NUMBER OF PERSONS KILLED'].aggregate(np.sum),\n",
    "    'Friday' :df.loc[df['Weekday'] == 'Friday']['NUMBER OF PERSONS KILLED'].aggregate(np.sum),\n",
    "'Saturday' :df.loc[df['Weekday'] == 'Saturday']['NUMBER OF PERSONS KILLED'].aggregate(np.sum),\n",
    "}\n",
    "\n",
    "print(monday)\n"
   ]
  },
  {
   "cell_type": "code",
   "execution_count": 22,
   "metadata": {},
   "outputs": [
    {
     "data": {
      "text/plain": [
       "<function matplotlib.pyplot.show(close=None, block=None)>"
      ]
     },
     "execution_count": 22,
     "metadata": {},
     "output_type": "execute_result"
    },
    {
     "data": {
      "image/png": "[encoded data removed]",
      "text/plain": [
       "<Figure size 700x350 with 1 Axes>"
      ]
     },
     "metadata": {
      "needs_background": "light"
     },
     "output_type": "display_data"
    }
   ],
   "source": [
    "plt.figure(figsize = (10,5),dpi =70)\n",
    "plt.bar(monday.keys(),monday.values())\n",
    "plt.xlabel('Days')\n",
    "plt.ylabel('Count of Deaths')\n",
    "plt.title('Deaths sorted by Day')\n",
    "plt.show"
   ]
  },
  {
   "cell_type": "markdown",
   "metadata": {},
   "source": [
    "This provides us with a little more insight, Suprsinngly while Manhattan is the most densely populated part of NYC is only ranks third out of the five boroughs. Brooklyn leads the way with the most accidents"
   ]
  },
  {
   "cell_type": "code",
   "execution_count": 23,
   "metadata": {},
   "outputs": [
    {
     "data": {
      "text/plain": [
       "<function matplotlib.pyplot.show(close=None, block=None)>"
      ]
     },
     "execution_count": 23,
     "metadata": {},
     "output_type": "execute_result"
    },
    {
     "data": {
      "image/png": "[encoded data removed]",
      "text/plain": [
       "<Figure size 700x350 with 1 Axes>"
      ]
     },
     "metadata": {
      "needs_background": "light"
     },
     "output_type": "display_data"
    }
   ],
   "source": [
    "plt.figure(figsize = (10,5),dpi =70)\n",
    "killed_d = df.groupby('Time')['NUMBER OF PERSONS KILLED'].aggregate(np.sum)\n",
    "plt.bar(height = killed_d, x= killed_d.index, width = .5,  )\n",
    "plt.xlabel('Time')\n",
    "plt.ylabel('Count of Deaths')\n",
    "plt.title('Deaths sorted by Time')\n",
    "plt.show"
   ]
  },
  {
   "cell_type": "code",
   "execution_count": 24,
   "metadata": {},
   "outputs": [
    {
     "data": {
      "text/plain": [
       "Unspecified                       638604\n",
       "Driver Inattention/Distraction    345762\n",
       "Failure to Yield Right-of-Way     103440\n",
       "Following Too Closely              92736\n",
       "Backing Unsafely                   68071\n",
       "                                   ...  \n",
       "Shoulders Defective/Improper          79\n",
       "Windshield Inadequate                 71\n",
       "Texting                               40\n",
       "Listening/Using Headphones            20\n",
       "1                                     10\n",
       "Name: CONTRIBUTING FACTOR VEHICLE 1, Length: 61, dtype: int64"
      ]
     },
     "execution_count": 24,
     "metadata": {},
     "output_type": "execute_result"
    }
   ],
   "source": [
    "df['CONTRIBUTING FACTOR VEHICLE 1'].value_counts()"
   ]
  },
  {
   "cell_type": "markdown",
   "metadata": {},
   "source": [
    "Unfortunately the highest ranking value on contributing factor is \"Unspecified\" this column may not be of much use to us when modeling the data, but it is good to note that driver inattention, not yielding, and following too closely are the top ranking categories. This helps prove that most of driver accidents are caused by human error, but doesn't help answer our question"
   ]
  },
  {
   "cell_type": "code",
   "execution_count": 25,
   "metadata": {},
   "outputs": [
    {
     "name": "stdout",
     "output_type": "stream",
     "text": [
      "ratio of accidents on holidays is 0.05433317494072039\n",
      "ratio of holidays to days in the year 0.06027397260273973\n",
      "ratio of deaths on holidays is 0.056111352762070466\n"
     ]
    }
   ],
   "source": [
    "df['ON HOLIDAY'].value_counts()\n",
    "#from the counts we can see that 92389 accidents landed on holidays and 1700416 landed on non-holidays\n",
    "print('ratio of accidents on holidays is ' + str(92389 / 1700416))\n",
    "print('ratio of holidays to days in the year ' + str(22/365))\n",
    "df.loc[df['ON HOLIDAY'] == True]['NUMBER OF PERSONS KILLED'].sum()\n",
    "df['NUMBER OF PERSONS KILLED'].sum()\n",
    "print('ratio of deaths on holidays is '+ str(129/2299))"
   ]
  },
  {
   "cell_type": "markdown",
   "metadata": {},
   "source": [
    "Interesting enough we actually see LESS accidents on days with Holidays in proportion to total accidents"
   ]
  },
  {
   "cell_type": "code",
   "execution_count": 26,
   "metadata": {},
   "outputs": [
    {
     "data": {
      "text/plain": [
       "count    1.792805e+06\n",
       "mean     2.762520e-01\n",
       "std      6.710764e-01\n",
       "min      0.000000e+00\n",
       "25%      0.000000e+00\n",
       "50%      0.000000e+00\n",
       "75%      0.000000e+00\n",
       "max      4.300000e+01\n",
       "Name: NUMBER OF PERSONS INJURED, dtype: float64"
      ]
     },
     "execution_count": 26,
     "metadata": {},
     "output_type": "execute_result"
    }
   ],
   "source": [
    "df['NUMBER OF PERSONS INJURED'].describe()\n"
   ]
  },
  {
   "cell_type": "code",
   "execution_count": 27,
   "metadata": {},
   "outputs": [
    {
     "data": {
      "text/plain": [
       "Text(0, 0.5, 'Count')"
      ]
     },
     "execution_count": 27,
     "metadata": {},
     "output_type": "execute_result"
    },
    {
     "data": {
      "image/png": "[encoded data removed]",
      "text/plain": [
       "<Figure size 432x288 with 1 Axes>"
      ]
     },
     "metadata": {
      "needs_background": "light"
     },
     "output_type": "display_data"
    }
   ],
   "source": [
    "plt.hist(x = df.loc[df['NUMBER OF PERSONS INJURED'] != 0]['NUMBER OF PERSONS INJURED'], bins = 100)\n",
    "plt.xlabel('Number of persons injured')\n",
    "plt.ylabel('Count')"
   ]
  },
  {
   "cell_type": "code",
   "execution_count": 28,
   "metadata": {},
   "outputs": [
    {
     "data": {
      "text/plain": [
       "Text(0, 0.5, 'Count')"
      ]
     },
     "execution_count": 28,
     "metadata": {},
     "output_type": "execute_result"
    },
    {
     "data": {
      "image/png": "[encoded data removed]",
      "text/plain": [
       "<Figure size 432x288 with 1 Axes>"
      ]
     },
     "metadata": {
      "needs_background": "light"
     },
     "output_type": "display_data"
    }
   ],
   "source": [
    "plt.hist(x =df.loc[df['NUMBER OF PERSONS KILLED'] != 0]['NUMBER OF PERSONS KILLED'], bins = 20)\n",
    "plt.xlabel('Number of persons killed')\n",
    "plt.ylabel('Count')"
   ]
  },
  {
   "cell_type": "markdown",
   "metadata": {},
   "source": [
    "As we expected the data for number of persons injured and killed are both extremely right skewed as most car accidents happen without harm, therefore I removed non-harmful accidents from these plots"
   ]
  },
  {
   "cell_type": "code",
   "execution_count": 29,
   "metadata": {},
   "outputs": [],
   "source": [
    "df2 = df.dropna(subset = ['LONGITUDE'])\n",
    "df2 = df2[df2.LONGITUDE > -100]\n",
    "df2 = df2[df2.LATITUDE > 1]"
   ]
  },
  {
   "cell_type": "code",
   "execution_count": 30,
   "metadata": {},
   "outputs": [
    {
     "data": {
      "text/plain": [
       "<AxesSubplot:xlabel='LONGITUDE', ylabel='LATITUDE'>"
      ]
     },
     "execution_count": 30,
     "metadata": {},
     "output_type": "execute_result"
    },
    {
     "data": {
      "image/png": "[encoded data removed]",
      "text/plain": [
       "<Figure size 432x288 with 1 Axes>"
      ]
     },
     "metadata": {
      "needs_background": "light"
     },
     "output_type": "display_data"
    }
   ],
   "source": [
    "df2.plot(kind = 'scatter',x = 'LONGITUDE', y= 'LATITUDE')"
   ]
  },
  {
   "cell_type": "code",
   "execution_count": 31,
   "metadata": {},
   "outputs": [],
   "source": [
    "df.to_csv(r'C:\\Users\\User\\Car_Accidents.csv')"
   ]
  },
  {
   "cell_type": "code",
   "execution_count": null,
   "metadata": {},
   "outputs": [],
   "source": []
  }
 ],
 "metadata": {
  "kernelspec": {
   "display_name": "Python 3",
   "language": "python",
   "name": "python3"
  },
  "language_info": {
   "codemirror_mode": {
    "name": "ipython",
    "version": 3
   },
   "file_extension": ".py",
   "mimetype": "text/x-python",
   "name": "python",
   "nbconvert_exporter": "python",
   "pygments_lexer": "ipython3",
   "version": "3.8.8"
  }
 },
 "nbformat": 4,
 "nbformat_minor": 4
}
