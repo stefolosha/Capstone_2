{
 "cells": [
  {
   "cell_type": "code",
   "execution_count": 1,
   "metadata": {},
   "outputs": [
    {
     "name": "stderr",
     "output_type": "stream",
     "text": [
      "C:\\Users\\User\\anaconda3\\lib\\site-packages\\IPython\\core\\interactiveshell.py:3146: DtypeWarning: Columns (3) have mixed types.Specify dtype option on import or set low_memory=False.\n",
      "  has_raised = await self.run_ast_nodes(code_ast.body, cell_name,\n"
     ]
    },
    {
     "name": "stdout",
     "output_type": "stream",
     "text": [
      "   CRASH DATE CRASH TIME   BOROUGH ZIP CODE  LATITUDE  LONGITUDE  \\\n",
      "0  04/14/2021       5:32       NaN      NaN       NaN        NaN   \n",
      "1  04/13/2021      21:35  BROOKLYN    11217  40.68358  -73.97617   \n",
      "2  04/15/2021      16:15       NaN      NaN       NaN        NaN   \n",
      "3  04/13/2021      16:00  BROOKLYN    11222       NaN        NaN   \n",
      "4  04/12/2021       8:25       NaN      NaN   0.00000    0.00000   \n",
      "\n",
      "                LOCATION                    ON STREET NAME CROSS STREET NAME  \\\n",
      "0                    NaN           BRONX WHITESTONE BRIDGE               NaN   \n",
      "1  (40.68358, -73.97617)                               NaN               NaN   \n",
      "2                    NaN          HUTCHINSON RIVER PARKWAY               NaN   \n",
      "3                    NaN                 VANDERVORT AVENUE    ANTHONY STREET   \n",
      "4             (0.0, 0.0)  EDSON AVENUE                                   NaN   \n",
      "\n",
      "                            OFF STREET NAME  ...  \\\n",
      "0                                       NaN  ...   \n",
      "1  620       ATLANTIC AVENUE                 ...   \n",
      "2                                       NaN  ...   \n",
      "3                                       NaN  ...   \n",
      "4                                       NaN  ...   \n",
      "\n",
      "   CONTRIBUTING FACTOR VEHICLE 2  CONTRIBUTING FACTOR VEHICLE 3  \\\n",
      "0                    Unspecified                            NaN   \n",
      "1                            NaN                            NaN   \n",
      "2                            NaN                            NaN   \n",
      "3                    Unspecified                            NaN   \n",
      "4                    Unspecified                            NaN   \n",
      "\n",
      "   CONTRIBUTING FACTOR VEHICLE 4  CONTRIBUTING FACTOR VEHICLE 5  COLLISION_ID  \\\n",
      "0                            NaN                            NaN       4407480   \n",
      "1                            NaN                            NaN       4407147   \n",
      "2                            NaN                            NaN       4407665   \n",
      "3                            NaN                            NaN       4407811   \n",
      "4                            NaN                            NaN       4406885   \n",
      "\n",
      "                   VEHICLE TYPE CODE 1  VEHICLE TYPE CODE 2  \\\n",
      "0                                Sedan                Sedan   \n",
      "1                                Sedan                  NaN   \n",
      "2  Station Wagon/Sport Utility Vehicle                  NaN   \n",
      "3                                Sedan                  NaN   \n",
      "4  Station Wagon/Sport Utility Vehicle                Sedan   \n",
      "\n",
      "   VEHICLE TYPE CODE 3 VEHICLE TYPE CODE 4 VEHICLE TYPE CODE 5  \n",
      "0                  NaN                 NaN                 NaN  \n",
      "1                  NaN                 NaN                 NaN  \n",
      "2                  NaN                 NaN                 NaN  \n",
      "3                  NaN                 NaN                 NaN  \n",
      "4                  NaN                 NaN                 NaN  \n",
      "\n",
      "[5 rows x 29 columns]\n"
     ]
    }
   ],
   "source": [
    "import pandas as pd\n",
    "df = pd.read_csv(r'C:\\Users\\User\\Motor_Vehicle_Collisions_-_Crashes.csv')\n",
    "print(df.head())"
   ]
  },
  {
   "cell_type": "code",
   "execution_count": 2,
   "metadata": {},
   "outputs": [],
   "source": [
    "df_holiday = pd.read_csv(r'C:\\Users\\User\\us-holidays-2021.csv')\n",
    "Holidates = df_holiday['DATE'].to_list()\n",
    "clean_holidates = Holidates[0:-11]\n",
    "holiday_series = pd.Series(clean_holidates)\n",
    "holiday_series = pd.to_datetime(holiday_series)"
   ]
  },
  {
   "cell_type": "code",
   "execution_count": 3,
   "metadata": {},
   "outputs": [],
   "source": [
    "df2 = df.copy()\n",
    "df2.drop(['VEHICLE TYPE CODE 1','VEHICLE TYPE CODE 2','VEHICLE TYPE CODE 3','VEHICLE TYPE CODE 4','VEHICLE TYPE CODE 5','CONTRIBUTING FACTOR VEHICLE 2','CONTRIBUTING FACTOR VEHICLE 3','CONTRIBUTING FACTOR VEHICLE 4','CONTRIBUTING FACTOR VEHICLE 5'], axis = 1, inplace=True)"
   ]
  },
  {
   "cell_type": "code",
   "execution_count": 4,
   "metadata": {},
   "outputs": [
    {
     "name": "stdout",
     "output_type": "stream",
     "text": [
      "CRASH DATE                        object\n",
      "CRASH TIME                        object\n",
      "BOROUGH                           object\n",
      "ZIP CODE                          object\n",
      "LATITUDE                         float64\n",
      "LONGITUDE                        float64\n",
      "LOCATION                          object\n",
      "ON STREET NAME                    object\n",
      "CROSS STREET NAME                 object\n",
      "OFF STREET NAME                   object\n",
      "NUMBER OF PERSONS INJURED        float64\n",
      "NUMBER OF PERSONS KILLED         float64\n",
      "NUMBER OF PEDESTRIANS INJURED      int64\n",
      "NUMBER OF PEDESTRIANS KILLED       int64\n",
      "NUMBER OF CYCLIST INJURED          int64\n",
      "NUMBER OF CYCLIST KILLED           int64\n",
      "NUMBER OF MOTORIST INJURED         int64\n",
      "NUMBER OF MOTORIST KILLED          int64\n",
      "CONTRIBUTING FACTOR VEHICLE 1     object\n",
      "COLLISION_ID                       int64\n",
      "dtype: object\n"
     ]
    }
   ],
   "source": [
    "print(df2.dtypes)\n",
    "#need to change crash time to datetime\n",
    "#number of persons injured to int\n",
    "#number of persons killed to int\n",
    "#change contributing factor to category "
   ]
  },
  {
   "cell_type": "code",
   "execution_count": 6,
   "metadata": {},
   "outputs": [],
   "source": [
    "import numpy as np\n",
    "df2['CRASH DATE'] = pd.to_datetime(df2['CRASH DATE'])\n",
    "df2['CRASH TIME'] = pd.to_datetime(df2['CRASH TIME'], format= '%H:%M').dt.time\n",
    "df2['NUMBER OF PERSONS INJURED']= df2['NUMBER OF PERSONS INJURED'].fillna(0).astype(np.int64)\n",
    "df2['NUMBER OF PERSONS KILLED']= df2['NUMBER OF PERSONS KILLED'].fillna(0).astype(np.int64)\n",
    "df2['CONTRIBUTING FACTOR VEHICLE 1'] = df2['CONTRIBUTING FACTOR VEHICLE 1'].astype('category')\n",
    "#clean data first in df before adding holiday\n",
    "#need to add holiday as a column to df  USE THE DATE TO CREATE A NEW COLUMN WITH ONLY MONTH AND DAY"
   ]
  },
  {
   "cell_type": "code",
   "execution_count": 7,
   "metadata": {},
   "outputs": [
    {
     "name": "stdout",
     "output_type": "stream",
     "text": [
      "CRASH DATE                       datetime64[ns]\n",
      "CRASH TIME                               object\n",
      "BOROUGH                                  object\n",
      "ZIP CODE                                 object\n",
      "LATITUDE                                float64\n",
      "LONGITUDE                               float64\n",
      "LOCATION                                 object\n",
      "ON STREET NAME                           object\n",
      "CROSS STREET NAME                        object\n",
      "OFF STREET NAME                          object\n",
      "NUMBER OF PERSONS INJURED                 int64\n",
      "NUMBER OF PERSONS KILLED                  int64\n",
      "NUMBER OF PEDESTRIANS INJURED             int64\n",
      "NUMBER OF PEDESTRIANS KILLED              int64\n",
      "NUMBER OF CYCLIST INJURED                 int64\n",
      "NUMBER OF CYCLIST KILLED                  int64\n",
      "NUMBER OF MOTORIST INJURED                int64\n",
      "NUMBER OF MOTORIST KILLED                 int64\n",
      "CONTRIBUTING FACTOR VEHICLE 1          category\n",
      "COLLISION_ID                              int64\n",
      "dtype: object\n"
     ]
    }
   ],
   "source": [
    "print(df2.dtypes) #check the proper changes were made"
   ]
  },
  {
   "cell_type": "code",
   "execution_count": 8,
   "metadata": {},
   "outputs": [
    {
     "name": "stdout",
     "output_type": "stream",
     "text": [
      "  CRASH DATE CRASH TIME   BOROUGH ZIP CODE  LATITUDE  LONGITUDE  \\\n",
      "0 2021-04-14   05:32:00       NaN      NaN       NaN        NaN   \n",
      "1 2021-04-13   21:35:00  BROOKLYN    11217  40.68358  -73.97617   \n",
      "2 2021-04-15   16:15:00       NaN      NaN       NaN        NaN   \n",
      "3 2021-04-13   16:00:00  BROOKLYN    11222       NaN        NaN   \n",
      "4 2021-04-12   08:25:00       NaN      NaN   0.00000    0.00000   \n",
      "\n",
      "                LOCATION                    ON STREET NAME CROSS STREET NAME  \\\n",
      "0                    NaN           BRONX WHITESTONE BRIDGE               NaN   \n",
      "1  (40.68358, -73.97617)                               NaN               NaN   \n",
      "2                    NaN          HUTCHINSON RIVER PARKWAY               NaN   \n",
      "3                    NaN                 VANDERVORT AVENUE    ANTHONY STREET   \n",
      "4             (0.0, 0.0)  EDSON AVENUE                                   NaN   \n",
      "\n",
      "                            OFF STREET NAME  NUMBER OF PERSONS INJURED  \\\n",
      "0                                       NaN                          0   \n",
      "1  620       ATLANTIC AVENUE                                         1   \n",
      "2                                       NaN                          0   \n",
      "3                                       NaN                          0   \n",
      "4                                       NaN                          0   \n",
      "\n",
      "   NUMBER OF PERSONS KILLED  NUMBER OF PEDESTRIANS INJURED  \\\n",
      "0                         0                              0   \n",
      "1                         0                              1   \n",
      "2                         0                              0   \n",
      "3                         0                              0   \n",
      "4                         0                              0   \n",
      "\n",
      "   NUMBER OF PEDESTRIANS KILLED  NUMBER OF CYCLIST INJURED  \\\n",
      "0                             0                          0   \n",
      "1                             0                          0   \n",
      "2                             0                          0   \n",
      "3                             0                          0   \n",
      "4                             0                          0   \n",
      "\n",
      "   NUMBER OF CYCLIST KILLED  NUMBER OF MOTORIST INJURED  \\\n",
      "0                         0                           0   \n",
      "1                         0                           0   \n",
      "2                         0                           0   \n",
      "3                         0                           0   \n",
      "4                         0                           0   \n",
      "\n",
      "   NUMBER OF MOTORIST KILLED CONTRIBUTING FACTOR VEHICLE 1  COLLISION_ID  \n",
      "0                          0         Following Too Closely       4407480  \n",
      "1                          0                   Unspecified       4407147  \n",
      "2                          0             Pavement Slippery       4407665  \n",
      "3                          0         Following Too Closely       4407811  \n",
      "4                          0                   Unspecified       4406885  \n"
     ]
    }
   ],
   "source": [
    "print(df2.head())"
   ]
  },
  {
   "cell_type": "code",
   "execution_count": 9,
   "metadata": {},
   "outputs": [],
   "source": [
    "df2['MM-DD'] = df2['CRASH DATE'].dt.strftime('%m-%d') #comparing just the month and day \n",
    "holiday_series = holiday_series.dt.strftime('%m-%d')"
   ]
  },
  {
   "cell_type": "code",
   "execution_count": 10,
   "metadata": {},
   "outputs": [],
   "source": [
    "list_of_holidays = []\n",
    "for item in holiday_series:\n",
    "    list_of_holidays.append(item)\n",
    "df2['ON HOLIDAY'] = df2['MM-DD'].isin(list_of_holidays)"
   ]
  },
  {
   "cell_type": "code",
   "execution_count": 11,
   "metadata": {},
   "outputs": [
    {
     "name": "stdout",
     "output_type": "stream",
     "text": [
      "CRASH DATE                             0\n",
      "CRASH TIME                             0\n",
      "BOROUGH                           552179\n",
      "ZIP CODE                          552393\n",
      "LATITUDE                          211179\n",
      "LONGITUDE                         211179\n",
      "LOCATION                          211179\n",
      "ON STREET NAME                    363252\n",
      "CROSS STREET NAME                 636208\n",
      "OFF STREET NAME                  1521921\n",
      "NUMBER OF PERSONS INJURED              0\n",
      "NUMBER OF PERSONS KILLED               0\n",
      "NUMBER OF PEDESTRIANS INJURED          0\n",
      "NUMBER OF PEDESTRIANS KILLED           0\n",
      "NUMBER OF CYCLIST INJURED              0\n",
      "NUMBER OF CYCLIST KILLED               0\n",
      "NUMBER OF MOTORIST INJURED             0\n",
      "NUMBER OF MOTORIST KILLED              0\n",
      "CONTRIBUTING FACTOR VEHICLE 1       5080\n",
      "COLLISION_ID                           0\n",
      "MM-DD                                  0\n",
      "ON HOLIDAY                             0\n",
      "dtype: int64\n"
     ]
    }
   ],
   "source": [
    "print(df2.isnull().sum()) "
   ]
  },
  {
   "cell_type": "code",
   "execution_count": 12,
   "metadata": {},
   "outputs": [
    {
     "name": "stdout",
     "output_type": "stream",
     "text": [
      "           LATITUDE     LONGITUDE  NUMBER OF PERSONS INJURED  \\\n",
      "count  1.581626e+06  1.581626e+06               1.792805e+06   \n",
      "mean   4.067626e+01 -7.384161e+01               2.762520e-01   \n",
      "std    1.398354e+00  2.745141e+00               6.710764e-01   \n",
      "min    0.000000e+00 -2.013600e+02               0.000000e+00   \n",
      "25%    4.066850e+01 -7.397585e+01               0.000000e+00   \n",
      "50%    4.072195e+01 -7.392822e+01               0.000000e+00   \n",
      "75%    4.076889e+01 -7.386665e+01               0.000000e+00   \n",
      "max    4.334444e+01  0.000000e+00               4.300000e+01   \n",
      "\n",
      "       NUMBER OF PERSONS KILLED  NUMBER OF PEDESTRIANS INJURED  \\\n",
      "count              1.792805e+06                   1.792805e+06   \n",
      "mean               1.282348e-03                   5.167043e-02   \n",
      "std                3.786209e-02                   2.337421e-01   \n",
      "min                0.000000e+00                   0.000000e+00   \n",
      "25%                0.000000e+00                   0.000000e+00   \n",
      "50%                0.000000e+00                   0.000000e+00   \n",
      "75%                0.000000e+00                   0.000000e+00   \n",
      "max                8.000000e+00                   2.700000e+01   \n",
      "\n",
      "       NUMBER OF PEDESTRIANS KILLED  NUMBER OF CYCLIST INJURED  \\\n",
      "count                  1.792805e+06               1.792805e+06   \n",
      "mean                   6.732467e-04               2.331653e-02   \n",
      "std                    2.647042e-02               1.526415e-01   \n",
      "min                    0.000000e+00               0.000000e+00   \n",
      "25%                    0.000000e+00               0.000000e+00   \n",
      "50%                    0.000000e+00               0.000000e+00   \n",
      "75%                    0.000000e+00               0.000000e+00   \n",
      "max                    6.000000e+00               7.000000e+00   \n",
      "\n",
      "       NUMBER OF CYCLIST KILLED  NUMBER OF MOTORIST INJURED  \\\n",
      "count              1.792805e+06                1.792805e+06   \n",
      "mean               9.538126e-05                2.010804e-01   \n",
      "std                9.822820e-03                6.329850e-01   \n",
      "min                0.000000e+00                0.000000e+00   \n",
      "25%                0.000000e+00                0.000000e+00   \n",
      "50%                0.000000e+00                0.000000e+00   \n",
      "75%                0.000000e+00                0.000000e+00   \n",
      "max                2.000000e+00                4.300000e+01   \n",
      "\n",
      "       NUMBER OF MOTORIST KILLED  COLLISION_ID  \n",
      "count               1.792805e+06  1.792805e+06  \n",
      "mean                5.126045e-04  2.937186e+06  \n",
      "std                 2.477618e-02  1.502733e+06  \n",
      "min                 0.000000e+00  2.200000e+01  \n",
      "25%                 0.000000e+00  2.914484e+06  \n",
      "50%                 0.000000e+00  3.532570e+06  \n",
      "75%                 0.000000e+00  3.981010e+06  \n",
      "max                 5.000000e+00  4.429705e+06  \n"
     ]
    }
   ],
   "source": [
    "#summary stats for columns mean, median mode for all numerical values \n",
    "print(df2.describe()) "
   ]
  },
  {
   "cell_type": "code",
   "execution_count": 13,
   "metadata": {},
   "outputs": [
    {
     "name": "stdout",
     "output_type": "stream",
     "text": [
      "CRASH DATE                          3276\n",
      "CRASH TIME                          1440\n",
      "BOROUGH                                5\n",
      "ZIP CODE                             422\n",
      "LATITUDE                          119226\n",
      "LONGITUDE                          93469\n",
      "LOCATION                          231907\n",
      "ON STREET NAME                     14654\n",
      "CROSS STREET NAME                  19019\n",
      "OFF STREET NAME                   167525\n",
      "NUMBER OF PERSONS INJURED             27\n",
      "NUMBER OF PERSONS KILLED               7\n",
      "NUMBER OF PEDESTRIANS INJURED         13\n",
      "NUMBER OF PEDESTRIANS KILLED           4\n",
      "NUMBER OF CYCLIST INJURED              6\n",
      "NUMBER OF CYCLIST KILLED               3\n",
      "NUMBER OF MOTORIST INJURED            27\n",
      "NUMBER OF MOTORIST KILLED              6\n",
      "CONTRIBUTING FACTOR VEHICLE 1         61\n",
      "COLLISION_ID                     1792805\n",
      "MM-DD                                366\n",
      "ON HOLIDAY                             2\n",
      "dtype: int64\n"
     ]
    }
   ],
   "source": [
    "print(df2.nunique())"
   ]
  },
  {
   "cell_type": "code",
   "execution_count": null,
   "metadata": {},
   "outputs": [],
   "source": []
  },
  {
   "cell_type": "code",
   "execution_count": null,
   "metadata": {},
   "outputs": [],
   "source": []
  }
 ],
 "metadata": {
  "kernelspec": {
   "display_name": "Python 3",
   "language": "python",
   "name": "python3"
  },
  "language_info": {
   "codemirror_mode": {
    "name": "ipython",
    "version": 3
   },
   "file_extension": ".py",
   "mimetype": "text/x-python",
   "name": "python",
   "nbconvert_exporter": "python",
   "pygments_lexer": "ipython3",
   "version": "3.8.5"
  }
 },
 "nbformat": 4,
 "nbformat_minor": 4
}
