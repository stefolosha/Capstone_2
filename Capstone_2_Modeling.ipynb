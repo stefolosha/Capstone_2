{
 "cells": [
  {
   "cell_type": "markdown",
   "id": "9800e236",
   "metadata": {},
   "source": [
    "Step 4: Modeling"
   ]
  },
  {
   "cell_type": "code",
   "execution_count": 1,
   "id": "ecc6c705",
   "metadata": {},
   "outputs": [],
   "source": [
    "import numpy as np\n",
    "import pandas as pd\n",
    "import matplotlib.pyplot as plt\n",
    "import seaborn as sns\n",
    "import pickle\n",
    "from xgboost import XGBClassifier\n",
    "from sklearn.metrics import confusion_matrix\n",
    "from sklearn.linear_model import LogisticRegression\n",
    "from sklearn.model_selection import RandomizedSearchCV, GridSearchCV\n",
    "from sklearn.ensemble import RandomForestClassifier\n",
    "from sklearn.metrics import recall_score, f1_score, precision_score, accuracy_score\n",
    "from sklearn.metrics import precision_recall_fscore_support\n",
    "import sklearn.metrics\n",
    "from imblearn.over_sampling import SMOTE \n",
    "#ignore warning messages to ensure clean outputs\n",
    "import warnings\n",
    "warnings.filterwarnings('ignore')"
   ]
  },
  {
   "cell_type": "markdown",
   "id": "b72e0e7d",
   "metadata": {},
   "source": [
    "Applying the Machine Learning models:\n",
    "This is a classification problem, in supervised learning. Here we have used the following classification models:\n",
    "   \n",
    "   - Random Forest\n",
    "   - XGBoost\n",
    "   - Logistic Regression\n",
    "  \n",
    "    \n",
    "    \n",
    "    "
   ]
  },
  {
   "cell_type": "code",
   "execution_count": 2,
   "id": "2e7fbe91",
   "metadata": {},
   "outputs": [
    {
     "data": {
      "text/html": [
       "<div>\n",
       "<style scoped>\n",
       "    .dataframe tbody tr th:only-of-type {\n",
       "        vertical-align: middle;\n",
       "    }\n",
       "\n",
       "    .dataframe tbody tr th {\n",
       "        vertical-align: top;\n",
       "    }\n",
       "\n",
       "    .dataframe thead th {\n",
       "        text-align: right;\n",
       "    }\n",
       "</style>\n",
       "<table border=\"1\" class=\"dataframe\">\n",
       "  <thead>\n",
       "    <tr style=\"text-align: right;\">\n",
       "      <th></th>\n",
       "      <th>CRASH DATE</th>\n",
       "      <th>CRASH TIME</th>\n",
       "      <th>ZIP CODE</th>\n",
       "      <th>LATITUDE</th>\n",
       "      <th>LONGITUDE</th>\n",
       "      <th>ON STREET NAME</th>\n",
       "      <th>CROSS STREET NAME</th>\n",
       "      <th>OFF STREET NAME</th>\n",
       "      <th>COLLISION_ID</th>\n",
       "      <th>DEATH OCCURED</th>\n",
       "      <th>...</th>\n",
       "      <th>Time_14</th>\n",
       "      <th>Time_15</th>\n",
       "      <th>Time_16</th>\n",
       "      <th>Time_17</th>\n",
       "      <th>Time_18</th>\n",
       "      <th>Time_19</th>\n",
       "      <th>Time_20</th>\n",
       "      <th>Time_21</th>\n",
       "      <th>Time_22</th>\n",
       "      <th>Time_23</th>\n",
       "    </tr>\n",
       "  </thead>\n",
       "  <tbody>\n",
       "    <tr>\n",
       "      <th>0</th>\n",
       "      <td>2021-04-14</td>\n",
       "      <td>2021-07-24 05:32:00</td>\n",
       "      <td>NaN</td>\n",
       "      <td>NaN</td>\n",
       "      <td>NaN</td>\n",
       "      <td>BRONX WHITESTONE BRIDGE</td>\n",
       "      <td>NaN</td>\n",
       "      <td>NaN</td>\n",
       "      <td>4407480</td>\n",
       "      <td>False</td>\n",
       "      <td>...</td>\n",
       "      <td>0</td>\n",
       "      <td>0</td>\n",
       "      <td>0</td>\n",
       "      <td>0</td>\n",
       "      <td>0</td>\n",
       "      <td>0</td>\n",
       "      <td>0</td>\n",
       "      <td>0</td>\n",
       "      <td>0</td>\n",
       "      <td>0</td>\n",
       "    </tr>\n",
       "    <tr>\n",
       "      <th>1</th>\n",
       "      <td>2021-04-13</td>\n",
       "      <td>2021-07-24 21:35:00</td>\n",
       "      <td>11217.0</td>\n",
       "      <td>40.68358</td>\n",
       "      <td>-73.97617</td>\n",
       "      <td>NaN</td>\n",
       "      <td>NaN</td>\n",
       "      <td>620       ATLANTIC AVENUE</td>\n",
       "      <td>4407147</td>\n",
       "      <td>False</td>\n",
       "      <td>...</td>\n",
       "      <td>0</td>\n",
       "      <td>0</td>\n",
       "      <td>0</td>\n",
       "      <td>0</td>\n",
       "      <td>0</td>\n",
       "      <td>0</td>\n",
       "      <td>0</td>\n",
       "      <td>1</td>\n",
       "      <td>0</td>\n",
       "      <td>0</td>\n",
       "    </tr>\n",
       "    <tr>\n",
       "      <th>2</th>\n",
       "      <td>2021-04-15</td>\n",
       "      <td>2021-07-24 16:15:00</td>\n",
       "      <td>NaN</td>\n",
       "      <td>NaN</td>\n",
       "      <td>NaN</td>\n",
       "      <td>HUTCHINSON RIVER PARKWAY</td>\n",
       "      <td>NaN</td>\n",
       "      <td>NaN</td>\n",
       "      <td>4407665</td>\n",
       "      <td>False</td>\n",
       "      <td>...</td>\n",
       "      <td>0</td>\n",
       "      <td>0</td>\n",
       "      <td>1</td>\n",
       "      <td>0</td>\n",
       "      <td>0</td>\n",
       "      <td>0</td>\n",
       "      <td>0</td>\n",
       "      <td>0</td>\n",
       "      <td>0</td>\n",
       "      <td>0</td>\n",
       "    </tr>\n",
       "    <tr>\n",
       "      <th>3</th>\n",
       "      <td>2021-04-13</td>\n",
       "      <td>2021-07-24 16:00:00</td>\n",
       "      <td>11222.0</td>\n",
       "      <td>NaN</td>\n",
       "      <td>NaN</td>\n",
       "      <td>VANDERVORT AVENUE</td>\n",
       "      <td>ANTHONY STREET</td>\n",
       "      <td>NaN</td>\n",
       "      <td>4407811</td>\n",
       "      <td>False</td>\n",
       "      <td>...</td>\n",
       "      <td>0</td>\n",
       "      <td>0</td>\n",
       "      <td>1</td>\n",
       "      <td>0</td>\n",
       "      <td>0</td>\n",
       "      <td>0</td>\n",
       "      <td>0</td>\n",
       "      <td>0</td>\n",
       "      <td>0</td>\n",
       "      <td>0</td>\n",
       "    </tr>\n",
       "    <tr>\n",
       "      <th>4</th>\n",
       "      <td>2021-04-12</td>\n",
       "      <td>2021-07-24 08:25:00</td>\n",
       "      <td>NaN</td>\n",
       "      <td>0.00000</td>\n",
       "      <td>0.00000</td>\n",
       "      <td>EDSON AVENUE</td>\n",
       "      <td>NaN</td>\n",
       "      <td>NaN</td>\n",
       "      <td>4406885</td>\n",
       "      <td>False</td>\n",
       "      <td>...</td>\n",
       "      <td>0</td>\n",
       "      <td>0</td>\n",
       "      <td>0</td>\n",
       "      <td>0</td>\n",
       "      <td>0</td>\n",
       "      <td>0</td>\n",
       "      <td>0</td>\n",
       "      <td>0</td>\n",
       "      <td>0</td>\n",
       "      <td>0</td>\n",
       "    </tr>\n",
       "  </tbody>\n",
       "</table>\n",
       "<p>5 rows × 503 columns</p>\n",
       "</div>"
      ],
      "text/plain": [
       "  CRASH DATE          CRASH TIME ZIP CODE  LATITUDE  LONGITUDE  \\\n",
       "0 2021-04-14 2021-07-24 05:32:00      NaN       NaN        NaN   \n",
       "1 2021-04-13 2021-07-24 21:35:00  11217.0  40.68358  -73.97617   \n",
       "2 2021-04-15 2021-07-24 16:15:00      NaN       NaN        NaN   \n",
       "3 2021-04-13 2021-07-24 16:00:00  11222.0       NaN        NaN   \n",
       "4 2021-04-12 2021-07-24 08:25:00      NaN   0.00000    0.00000   \n",
       "\n",
       "                     ON STREET NAME CROSS STREET NAME  \\\n",
       "0           BRONX WHITESTONE BRIDGE               NaN   \n",
       "1                               NaN               NaN   \n",
       "2          HUTCHINSON RIVER PARKWAY               NaN   \n",
       "3                 VANDERVORT AVENUE    ANTHONY STREET   \n",
       "4  EDSON AVENUE                                   NaN   \n",
       "\n",
       "                            OFF STREET NAME COLLISION_ID  DEATH OCCURED  ...  \\\n",
       "0                                       NaN      4407480          False  ...   \n",
       "1  620       ATLANTIC AVENUE                     4407147          False  ...   \n",
       "2                                       NaN      4407665          False  ...   \n",
       "3                                       NaN      4407811          False  ...   \n",
       "4                                       NaN      4406885          False  ...   \n",
       "\n",
       "   Time_14  Time_15  Time_16  Time_17  Time_18  Time_19  Time_20  Time_21  \\\n",
       "0        0        0        0        0        0        0        0        0   \n",
       "1        0        0        0        0        0        0        0        1   \n",
       "2        0        0        1        0        0        0        0        0   \n",
       "3        0        0        1        0        0        0        0        0   \n",
       "4        0        0        0        0        0        0        0        0   \n",
       "\n",
       "   Time_22  Time_23  \n",
       "0        0        0  \n",
       "1        0        0  \n",
       "2        0        0  \n",
       "3        0        0  \n",
       "4        0        0  \n",
       "\n",
       "[5 rows x 503 columns]"
      ]
     },
     "execution_count": 2,
     "metadata": {},
     "output_type": "execute_result"
    }
   ],
   "source": [
    "df = pd.read_pickle(r'C:\\Users\\User\\Car_Accidents_preprocessed.pkl')\n",
    "df.head()"
   ]
  },
  {
   "cell_type": "markdown",
   "id": "420ed91d",
   "metadata": {},
   "source": [
    "I need to remove some of the Non-death data because the dataset is too large and my computer cannot process the models or Cross validations in a timely matter"
   ]
  },
  {
   "cell_type": "code",
   "execution_count": 3,
   "id": "f632c82c",
   "metadata": {},
   "outputs": [
    {
     "name": "stdout",
     "output_type": "stream",
     "text": [
      "(1790598, 503)\n",
      "(2207, 503)\n",
      "(10598, 503)\n"
     ]
    }
   ],
   "source": [
    "df_deaths = df.loc[df['DEATH OCCURED']== True]\n",
    "df_non_deaths = df.loc[df['DEATH OCCURED']== False]\n",
    "\n",
    "remove_n = 1780000\n",
    "drop_indices = np.random.choice(df_non_deaths.index, remove_n, replace=False)\n",
    "df_non_deaths_subset = df_non_deaths.drop(drop_indices)\n",
    "\n",
    "print(df_non_deaths.shape)\n",
    "print(df_deaths.shape)\n",
    "print(df_non_deaths_subset.shape)\n",
    "\n",
    "trim_df =df_deaths.append(df_non_deaths_subset)"
   ]
  },
  {
   "cell_type": "markdown",
   "id": "20c8ce2e",
   "metadata": {},
   "source": [
    "Here we split the data between Train and Test (note we do not need to standardize our data since we are using strictly categorical data in this scenario)"
   ]
  },
  {
   "cell_type": "code",
   "execution_count": 4,
   "id": "eb04773e",
   "metadata": {},
   "outputs": [
    {
     "name": "stdout",
     "output_type": "stream",
     "text": [
      "(12805, 493) (12805,)\n"
     ]
    }
   ],
   "source": [
    "from sklearn.model_selection import train_test_split\n",
    "\n",
    "X= trim_df.drop(columns= df.columns[:10])\n",
    "y = trim_df['DEATH OCCURED']\n",
    "print(X.shape, y.shape)"
   ]
  },
  {
   "cell_type": "code",
   "execution_count": 5,
   "id": "4e616861",
   "metadata": {},
   "outputs": [],
   "source": [
    "X_train, X_test, y_train, y_test = train_test_split(X, y, test_size=0.3, random_state=42)"
   ]
  },
  {
   "cell_type": "markdown",
   "id": "e30c75e0",
   "metadata": {},
   "source": [
    "Random Forest:\n",
    "\n",
    "    Pros:\n",
    "        - Works well with categorical data (transformation is not needed)\n",
    "        - Works well with a high number of features since they are randomly chosen from\n",
    "        - We will be able to see the feature importance\n",
    "    Cons:\n",
    "        - Has \"black box\" effect where much of what goes on in the model cannot be controlled\n",
    "        \n",
    "Potential Hyperperameters to tune:\n",
    "    n_estimators\n",
    "    max_features\n",
    "    max_depth\n",
    "    min_samples_split\n",
    "    bootstrap"
   ]
  },
  {
   "cell_type": "code",
   "execution_count": 6,
   "id": "8102ec24",
   "metadata": {},
   "outputs": [],
   "source": [
    "from sklearn.ensemble import RandomForestClassifier\n",
    "\n",
    "# we bootstrap, use entropy and use 50 n_estimators just as starting points for this model\n",
    "\n",
    "rf = RandomForestClassifier(bootstrap=True,n_estimators=50,criterion='entropy', random_state =1)\n",
    "rf.fit(X_train, y_train)\n",
    "\n",
    "#Predict using the model:\n",
    "\n",
    "y_predict_rf = rf.predict(X_test)\n",
    "\n"
   ]
  },
  {
   "cell_type": "code",
   "execution_count": 7,
   "id": "2bfbd5e0",
   "metadata": {},
   "outputs": [
    {
     "name": "stdout",
     "output_type": "stream",
     "text": [
      "[[3147   47]\n",
      " [ 527  121]]\n",
      "0.8505986465382613\n"
     ]
    }
   ],
   "source": [
    "from sklearn.metrics import confusion_matrix\n",
    "cnf_matrix = confusion_matrix(y_test, y_predict_rf)\n",
    "print(cnf_matrix)\n",
    "Accuracy_rf=rf.score(X_test,y_test)\n",
    "print(Accuracy_rf)\n"
   ]
  },
  {
   "cell_type": "code",
   "execution_count": 8,
   "id": "d471a309",
   "metadata": {},
   "outputs": [
    {
     "name": "stdout",
     "output_type": "stream",
     "text": [
      "precision: 0.7202380952380952\n",
      "recall: 0.1867283950617284\n",
      "fscore: 0.2965686274509804\n",
      "support: None\n"
     ]
    }
   ],
   "source": [
    "precision, recall, fscore, support = precision_recall_fscore_support(y_test, y_predict_rf, average='binary')\n",
    "print('precision:', precision )\n",
    "print('recall:',recall)\n",
    "print('fscore:', fscore)\n",
    "print('support:',support)"
   ]
  },
  {
   "cell_type": "code",
   "execution_count": 10,
   "id": "409c2be4",
   "metadata": {},
   "outputs": [],
   "source": [
    "from sklearn.model_selection import train_test_split\n",
    "\n",
    "#X= X[top_features]\n",
    "\n",
    "X_train, X_test, y_train, y_test = train_test_split(X, y, test_size=0.3, random_state=42)"
   ]
  },
  {
   "cell_type": "code",
   "execution_count": 11,
   "id": "88bea363",
   "metadata": {},
   "outputs": [
    {
     "name": "stdout",
     "output_type": "stream",
     "text": [
      "[[3147   47]\n",
      " [ 527  121]]\n",
      "0.8505986465382613\n"
     ]
    }
   ],
   "source": [
    "from sklearn.ensemble import RandomForestClassifier\n",
    "\n",
    "# we bootstrap, use entropy and use 50 n_estimators just as starting points for this model\n",
    "\n",
    "rf = RandomForestClassifier(bootstrap=True,n_estimators=50,criterion='entropy', random_state =1)\n",
    "rf.fit(X_train, y_train)\n",
    "\n",
    "#Predict using the model:\n",
    "\n",
    "y_predict_rf = rf.predict(X_test)\n",
    "\n",
    "from sklearn.metrics import confusion_matrix\n",
    "cnf_matrix = confusion_matrix(y_test, y_predict_rf)\n",
    "print(cnf_matrix)\n",
    "Accuracy_rf=rf.score(X_test,y_test)\n",
    "print(Accuracy_rf)"
   ]
  },
  {
   "cell_type": "code",
   "execution_count": 12,
   "id": "d9b9d164",
   "metadata": {},
   "outputs": [
    {
     "name": "stdout",
     "output_type": "stream",
     "text": [
      "precision: 0.7202380952380952\n",
      "recall: 0.1867283950617284\n",
      "fscore: 0.2965686274509804\n",
      "support: None\n"
     ]
    }
   ],
   "source": [
    "precision, recall, fscore, support = precision_recall_fscore_support(y_test, y_predict_rf, average='binary')\n",
    "print('precision:', precision )\n",
    "print('recall:',recall)\n",
    "print('fscore:', fscore)\n",
    "print('support:',support)"
   ]
  },
  {
   "cell_type": "code",
   "execution_count": 13,
   "id": "7370d547",
   "metadata": {},
   "outputs": [
    {
     "name": "stdout",
     "output_type": "stream",
     "text": [
      "[0.72425665 0.72685085 0.7135483  0.69439289 0.73195684]\n",
      "Mean cross validation test score: 0.7182011046281918\n",
      "Mean cross validation train score: 0.7262491318420657\n",
      "Standard deviation in cv scores: 0.013335574339655687\n"
     ]
    }
   ],
   "source": [
    "from sklearn.model_selection import cross_val_score\n",
    "\n",
    "cv_scores_test= cross_val_score(rf,X_test,y_test,cv=5,scoring='roc_auc')\n",
    "cv_scores_train= cross_val_score(rf,X_train,y_train,cv=5,scoring='roc_auc')\n",
    "print(cv_scores_test)\n",
    "cv_scores_rf_test= cv_scores_test.mean()\n",
    "cv_scores_rf_train= cv_scores_train.mean()\n",
    "cv_scores_std_rf= cv_scores_test.std()\n",
    "print ('Mean cross validation test score: ' +str(cv_scores_rf_test))\n",
    "print ('Mean cross validation train score: ' +str(cv_scores_rf_train))\n",
    "print ('Standard deviation in cv scores: ' +str(cv_scores_std_rf))"
   ]
  },
  {
   "cell_type": "markdown",
   "id": "f10afb4f",
   "metadata": {},
   "source": [
    "XGBoost:\n",
    "\n",
    "    Pros:\n",
    "    - Handles missing values well\n",
    "    - handles large data sets well\n",
    "    - fast to interpret and good execution speed\n",
    "    Cons:\n",
    "    - overfitting is possible if hyperparameters are not tuned correctly \n",
    "    - many hyperparameters can complicate things\n",
    "    \n",
    "Potential hyperparameters to tune: n_estimators, max_depth, learning_rate, n_jobs, min_child_weight, eval metric\n"
   ]
  },
  {
   "cell_type": "code",
   "execution_count": 14,
   "id": "7636890d",
   "metadata": {},
   "outputs": [
    {
     "name": "stdout",
     "output_type": "stream",
     "text": [
      "[[3166   28]\n",
      " [ 579   69]]\n",
      "0.8420093701197293\n"
     ]
    }
   ],
   "source": [
    "xgbModel = XGBClassifier(n_estimators=2, objective= 'binary:logistic', eval_metric= 'error', random_state=1)\n",
    "xgbModel.fit(X_train, y_train)\n",
    "y_predict_xgb = xgbModel.predict(X_test)\n",
    "\n",
    "cnf_matrix = confusion_matrix(y_test, y_predict_xgb)\n",
    "print(cnf_matrix)\n",
    "Accuracy_xgb=xgbModel.score(X_test,y_test)\n",
    "print(Accuracy_xgb)"
   ]
  },
  {
   "cell_type": "code",
   "execution_count": 15,
   "id": "3c2e675a",
   "metadata": {},
   "outputs": [
    {
     "name": "stdout",
     "output_type": "stream",
     "text": [
      "precision: 0.711340206185567\n",
      "recall: 0.10648148148148148\n",
      "fscore: 0.18523489932885906\n",
      "support: None\n"
     ]
    }
   ],
   "source": [
    "precision, recall, fscore, support = precision_recall_fscore_support(y_test, y_predict_xgb, average='binary')\n",
    "print('precision:', precision )\n",
    "print('recall:',recall)\n",
    "print('fscore:', fscore)\n",
    "print('support:',support)"
   ]
  },
  {
   "cell_type": "code",
   "execution_count": 16,
   "id": "729ea868",
   "metadata": {},
   "outputs": [
    {
     "name": "stdout",
     "output_type": "stream",
     "text": [
      "[0.64351752 0.58816059 0.61255474 0.56913661 0.69708826]\n",
      "Mean cross validation test score: 0.6220915426713567\n",
      "Mean cross validation train score: 0.6380615982504914\n",
      "Standard deviation in cv scores: 0.04501125290348766\n"
     ]
    }
   ],
   "source": [
    "from sklearn.model_selection import cross_val_score\n",
    "\n",
    "cv_scores_test= cross_val_score(xgbModel,X_test,y_test,cv=5,scoring='roc_auc')\n",
    "cv_scores_train= cross_val_score(xgbModel,X_train,y_train,cv=5,scoring='roc_auc')\n",
    "print(cv_scores_test)\n",
    "cv_scores_xgb_test= cv_scores_test.mean()\n",
    "cv_scores_xgb_train= cv_scores_train.mean()\n",
    "cv_scores_std_xgb= cv_scores_test.std()\n",
    "print ('Mean cross validation test score: ' +str(cv_scores_xgb_test))\n",
    "print ('Mean cross validation train score: ' +str(cv_scores_xgb_train))\n",
    "print ('Standard deviation in cv scores: ' +str(cv_scores_std_xgb))"
   ]
  },
  {
   "cell_type": "markdown",
   "id": "cee2924a",
   "metadata": {},
   "source": [
    "Logistic Regression\n",
    "\n",
    "    Pros:\n",
    "    -Easy to implement\n",
    "    -efficient in train time\n",
    "    Cons:\n",
    "    - Prone to overfitting with high dimensionality \n",
    "    - has difficulty capturing complex relationships\n",
    "    - Does not work well with many features\n",
    "Potential Hyperparameters to tune: C"
   ]
  },
  {
   "cell_type": "code",
   "execution_count": 17,
   "id": "b6eb33c7",
   "metadata": {},
   "outputs": [],
   "source": [
    "Logreg = LogisticRegression(penalty = 'l2', C = .1,random_state = 40)\n",
    "Logreg.fit(X_train,y_train)\n",
    "y_pred_lr = Logreg.predict(X_test)\n",
    "    "
   ]
  },
  {
   "cell_type": "code",
   "execution_count": 18,
   "id": "aa11a9bb",
   "metadata": {},
   "outputs": [
    {
     "name": "stdout",
     "output_type": "stream",
     "text": [
      "[[3151   43]\n",
      " [ 529  119]]\n",
      "0.8511192087454451\n"
     ]
    }
   ],
   "source": [
    "from sklearn.metrics import confusion_matrix\n",
    "\n",
    "cnf_matrix= confusion_matrix(y_test,y_pred_lr)\n",
    "print(cnf_matrix)\n",
    "Accuracy_lr=Logreg.score(X_test,y_test)\n",
    "\n",
    "print(Accuracy_lr)"
   ]
  },
  {
   "cell_type": "code",
   "execution_count": 19,
   "id": "565535ef",
   "metadata": {},
   "outputs": [
    {
     "name": "stdout",
     "output_type": "stream",
     "text": [
      "precision: 0.7345679012345679\n",
      "recall: 0.18364197530864199\n",
      "fscore: 0.2938271604938271\n",
      "support: None\n"
     ]
    }
   ],
   "source": [
    "precision, recall, fscore, support = precision_recall_fscore_support(y_test, y_pred_lr, average='binary')\n",
    "print('precision:', precision )\n",
    "print('recall:',recall)\n",
    "print('fscore:', fscore)\n",
    "print('support:',support)"
   ]
  },
  {
   "cell_type": "code",
   "execution_count": 20,
   "id": "85cf08a5",
   "metadata": {},
   "outputs": [
    {
     "name": "stdout",
     "output_type": "stream",
     "text": [
      "[0.75242567 0.73932828 0.72766314 0.72012956 0.75701712]\n",
      "Mean cross validation test score: 0.7393127525233877\n",
      "Mean cross validation train score: 0.7470875941813077\n",
      "Standard deviation in cv scores: 0.014064861836887058\n"
     ]
    }
   ],
   "source": [
    "from sklearn.model_selection import cross_val_score\n",
    "\n",
    "cv_scores_test= cross_val_score(Logreg,X_test,y_test,cv=5,scoring='roc_auc')\n",
    "cv_scores_train= cross_val_score(Logreg,X_train,y_train,cv=5,scoring='roc_auc')\n",
    "print(cv_scores_test)\n",
    "cv_scores_log_test= cv_scores_test.mean()\n",
    "cv_scores_log_train= cv_scores_train.mean()\n",
    "cv_scores_std_log= cv_scores_test.std()\n",
    "print ('Mean cross validation test score: ' +str(cv_scores_log_test))\n",
    "print ('Mean cross validation train score: ' +str(cv_scores_log_train))\n",
    "print ('Standard deviation in cv scores: ' +str(cv_scores_std_log))"
   ]
  },
  {
   "cell_type": "markdown",
   "id": "832730a8",
   "metadata": {},
   "source": [
    "Comparison of Training Models\n",
    "We applied 3 different ML models and will evaluate their performance in terms of ROC AUC score. "
   ]
  },
  {
   "cell_type": "code",
   "execution_count": 21,
   "id": "cb68e02d",
   "metadata": {},
   "outputs": [
    {
     "name": "stdout",
     "output_type": "stream",
     "text": [
      "             Algorithm  Model accuracy score\n",
      "0        Random Forest              0.850599\n",
      "1              XGBoost              0.842009\n",
      "2  Logistic Regression              0.851119\n"
     ]
    },
    {
     "data": {
      "text/html": [
       "<div>\n",
       "<style scoped>\n",
       "    .dataframe tbody tr th:only-of-type {\n",
       "        vertical-align: middle;\n",
       "    }\n",
       "\n",
       "    .dataframe tbody tr th {\n",
       "        vertical-align: top;\n",
       "    }\n",
       "\n",
       "    .dataframe thead th {\n",
       "        text-align: right;\n",
       "    }\n",
       "</style>\n",
       "<table border=\"1\" class=\"dataframe\">\n",
       "  <thead>\n",
       "    <tr style=\"text-align: right;\">\n",
       "      <th></th>\n",
       "      <th>Algorithm</th>\n",
       "      <th>ROC-AUC train score</th>\n",
       "      <th>ROC-AUC test score</th>\n",
       "    </tr>\n",
       "  </thead>\n",
       "  <tbody>\n",
       "    <tr>\n",
       "      <th>0</th>\n",
       "      <td>Random Forest</td>\n",
       "      <td>0.726249</td>\n",
       "      <td>0.718201</td>\n",
       "    </tr>\n",
       "    <tr>\n",
       "      <th>1</th>\n",
       "      <td>XGBoost</td>\n",
       "      <td>0.638062</td>\n",
       "      <td>0.622092</td>\n",
       "    </tr>\n",
       "    <tr>\n",
       "      <th>2</th>\n",
       "      <td>Logistic Regression</td>\n",
       "      <td>0.747088</td>\n",
       "      <td>0.739313</td>\n",
       "    </tr>\n",
       "  </tbody>\n",
       "</table>\n",
       "</div>"
      ],
      "text/plain": [
       "             Algorithm  ROC-AUC train score  ROC-AUC test score\n",
       "0        Random Forest             0.726249            0.718201\n",
       "1              XGBoost             0.638062            0.622092\n",
       "2  Logistic Regression             0.747088            0.739313"
      ]
     },
     "execution_count": 21,
     "metadata": {},
     "output_type": "execute_result"
    }
   ],
   "source": [
    "myLabels = ['Random Forest','XGBoost','Logistic Regression']\n",
    "Accuracy_score = [Accuracy_rf, Accuracy_xgb, Accuracy_lr]\n",
    "score_test = [cv_scores_rf_test, cv_scores_xgb_test, cv_scores_log_test]\n",
    "score_train= [ cv_scores_rf_train, cv_scores_xgb_train, cv_scores_log_train]\n",
    "score_tab_accuracy = pd.DataFrame(list(zip(myLabels, Accuracy_score)), \n",
    "               columns =['Algorithm', 'Model accuracy score']) \n",
    "\n",
    "print(score_tab_accuracy)\n",
    "roc_score = pd.DataFrame(list(zip(myLabels, score_train, score_test)), \n",
    "                         columns =['Algorithm', 'ROC-AUC train score', 'ROC-AUC test score' ]) \n",
    "roc_score\n"
   ]
  },
  {
   "cell_type": "markdown",
   "id": "ec54f631",
   "metadata": {},
   "source": [
    "Next we can take a look at precision, recall and F1-score. In our situation where we are focusing on locating car accidents that led to a death, we will focus on precision but look at the other measurements as well"
   ]
  },
  {
   "cell_type": "code",
   "execution_count": 22,
   "id": "da4ee69f",
   "metadata": {},
   "outputs": [
    {
     "name": "stdout",
     "output_type": "stream",
     "text": [
      "Random Forest precision is: 0.7202380952380952\n",
      "Random Forest recall is: 0.1867283950617284\n",
      "Random Forest f1-score is: 0.2965686274509804\n",
      "XGboost precision is: 0.711340206185567\n",
      "XGboost recall is: 0.10648148148148148\n",
      "XGboost f1-score is: 0.18523489932885906\n",
      "Logistic Regression precision is: 0.7345679012345679\n",
      "Logistic Regression recall is: 0.18364197530864199\n",
      "Logistic Regression f1-score is: 0.2938271604938271\n"
     ]
    }
   ],
   "source": [
    "\n",
    "def measurements(model, y_true, y_pred):\n",
    "    print(str(model) +\" precision is: \" + str(precision_score(y_true, y_pred)))\n",
    "    print(str(model) + \" recall is: \" + str(recall_score(y_true, y_pred)))\n",
    "    print(str(model)+ \" f1-score is: \" + str(f1_score(y_true, y_pred)))\n",
    "    \n",
    "measurements('Random Forest', y_test, y_predict_rf)\n",
    "measurements('XGboost', y_test ,y_predict_xgb)\n",
    "measurements('Logistic Regression',  y_test ,y_pred_lr)"
   ]
  },
  {
   "cell_type": "markdown",
   "id": "cc200de1",
   "metadata": {},
   "source": [
    "Applying RandomSearchCV for hyperparameter tuning, using this instead of GridSearch in order to save computing time"
   ]
  },
  {
   "cell_type": "markdown",
   "id": "22c5235a",
   "metadata": {},
   "source": [
    "Random Forest hyperparameter Tuning "
   ]
  },
  {
   "cell_type": "code",
   "execution_count": 23,
   "id": "3ab9a71b",
   "metadata": {},
   "outputs": [
    {
     "name": "stdout",
     "output_type": "stream",
     "text": [
      "RandomForestClassifier(min_samples_split=8, n_estimators=25, n_jobs=-1,\n",
      "                       random_state=1)\n",
      "0.8433563140707756\n"
     ]
    }
   ],
   "source": [
    "rf = RandomForestClassifier(max_features='auto',random_state=1, n_jobs=-1)\n",
    "\n",
    "param_grid = { \"criterion\" : [\"gini\", \"entropy\"], \"min_samples_leaf\" : [1, 5, 10], \"min_samples_split\" : [2,8,16], \"n_estimators\": [25,50]}\n",
    "\n",
    "rs = RandomizedSearchCV(estimator=rf, param_distributions=param_grid, scoring='accuracy', cv=3, n_jobs=-1)\n",
    "\n",
    "rs = rs.fit(X_train, y_train)\n",
    "\n",
    "print(rs.best_estimator_) \n",
    "print(rs.best_score_)"
   ]
  },
  {
   "cell_type": "markdown",
   "id": "1c1cd345",
   "metadata": {},
   "source": [
    "Fiiting Random Forest with optimal Hyperparameters"
   ]
  },
  {
   "cell_type": "code",
   "execution_count": 24,
   "id": "5c326415",
   "metadata": {},
   "outputs": [
    {
     "name": "stdout",
     "output_type": "stream",
     "text": [
      "0.851379489849037\n",
      "0.7307480694034338\n"
     ]
    }
   ],
   "source": [
    "rf = RandomForestClassifier(min_samples_split=16, n_estimators=50, n_jobs=-1,\n",
    "                       random_state=1)\n",
    "rf.fit(X_train, y_train)\n",
    "y_predictions_rf = rf.predict(X_test)\n",
    "acc = accuracy_score(y_test, y_predictions_rf)\n",
    "cv = cross_val_score(rf, X_test, y_test,scoring='roc_auc').mean()\n",
    "print(acc)\n",
    "print(cv)\n"
   ]
  },
  {
   "cell_type": "code",
   "execution_count": 25,
   "id": "40358c54",
   "metadata": {},
   "outputs": [
    {
     "name": "stdout",
     "output_type": "stream",
     "text": [
      "precision: 0.7655172413793103\n",
      "recall: 0.1712962962962963\n",
      "fscore: 0.27994955863808324\n",
      "support: None\n"
     ]
    }
   ],
   "source": [
    "precision, recall, fscore, support = precision_recall_fscore_support(y_test, y_predictions_rf, average='binary')\n",
    "print('precision:', precision )\n",
    "print('recall:',recall)\n",
    "print('fscore:', fscore)\n",
    "print('support:',support)"
   ]
  },
  {
   "cell_type": "markdown",
   "id": "8ba8d060",
   "metadata": {},
   "source": [
    "Parameter Tuning for XGBoost"
   ]
  },
  {
   "cell_type": "code",
   "execution_count": 26,
   "id": "89df9d97",
   "metadata": {},
   "outputs": [
    {
     "name": "stdout",
     "output_type": "stream",
     "text": [
      "XGBClassifier(early_stopping_rounds=8, eval_metric='error', learning_rate=0.5,\n",
      "              n_estimators=25, random_state=1)\n",
      "0.8497161282110923\n"
     ]
    }
   ],
   "source": [
    "param_grid = {'max_depth': [3,4,5,6,7], 'learning_rate':[.01,.1,.5], 'early_stopping_rounds':[2,4,6,8], 'n_estimators':[25,50]}\n",
    "xgbModel = XGBClassifier( objective= 'binary:logistic', eval_metric= 'error', random_state=1)\n",
    "rs2 = RandomizedSearchCV(estimator = xgbModel, scoring='accuracy',param_distributions=param_grid, cv=3, n_jobs =-1)\n",
    "rs2 = rs2.fit(X_train, y_train)\n",
    "\n",
    "print(rs2.best_estimator_) \n",
    "print(rs2.best_score_)"
   ]
  },
  {
   "cell_type": "markdown",
   "id": "67022a35",
   "metadata": {},
   "source": [
    "Fitting XGBoost Model with Optimal Hyperparameter"
   ]
  },
  {
   "cell_type": "code",
   "execution_count": 27,
   "id": "ffb1a9b9",
   "metadata": {},
   "outputs": [
    {
     "name": "stdout",
     "output_type": "stream",
     "text": [
      "0.8511192087454451\n",
      "0.7544070388914352\n"
     ]
    }
   ],
   "source": [
    "xgb = XGBClassifier(early_stopping_rounds=8, eval_metric='error', learning_rate=0.5,\n",
    "              n_estimators=25, random_state=1)\n",
    "xgb.fit(X_train, y_train)\n",
    "y_predictions_xgb = xgb.predict(X_test)\n",
    "acc = accuracy_score(y_test, y_predictions_xgb)\n",
    "cv = cross_val_score(xgb, X_test, y_test,scoring='roc_auc').mean()\n",
    "print(acc)\n",
    "print(cv)\n"
   ]
  },
  {
   "cell_type": "code",
   "execution_count": 28,
   "id": "fcd57059",
   "metadata": {},
   "outputs": [
    {
     "name": "stdout",
     "output_type": "stream",
     "text": [
      "precision: 0.7065217391304348\n",
      "recall: 0.2006172839506173\n",
      "fscore: 0.31250000000000006\n",
      "support: None\n"
     ]
    }
   ],
   "source": [
    "precision, recall, fscore, support = precision_recall_fscore_support(y_test, y_predictions_xgb, average='binary')\n",
    "print('precision:', precision )\n",
    "print('recall:',recall)\n",
    "print('fscore:', fscore)\n",
    "print('support:',support)"
   ]
  },
  {
   "cell_type": "markdown",
   "id": "7c6092f1",
   "metadata": {},
   "source": [
    "Parameter Tuning For Logistic Regression"
   ]
  },
  {
   "cell_type": "code",
   "execution_count": 29,
   "id": "080228dd",
   "metadata": {},
   "outputs": [
    {
     "name": "stdout",
     "output_type": "stream",
     "text": [
      "LogisticRegression(C=1, random_state=40)\n",
      "0.8426873061565162\n"
     ]
    }
   ],
   "source": [
    "param_grid = {'C': [0.001, 0.01, 0.1, 1, 10, 100, 1000] }\n",
    "logreg = LogisticRegression(penalty = 'l2',random_state = 40)\n",
    "rs3 = RandomizedSearchCV(estimator= logreg,param_distributions= param_grid, scoring= 'accuracy', cv=3, n_jobs =-1 )\n",
    "\n",
    "rs3 = rs3.fit(X_train, y_train)\n",
    "print(rs3.best_estimator_)\n",
    "print(rs3.best_score_)"
   ]
  },
  {
   "cell_type": "markdown",
   "id": "45d01228",
   "metadata": {},
   "source": [
    "Fitting Logistic Regression with Optimal Hyperparameter"
   ]
  },
  {
   "cell_type": "code",
   "execution_count": 30,
   "id": "2f3a2859",
   "metadata": {},
   "outputs": [
    {
     "name": "stdout",
     "output_type": "stream",
     "text": [
      "0.8503383654346695\n",
      "0.7503610283175888\n"
     ]
    }
   ],
   "source": [
    "logreg = LogisticRegression(penalty = 'l2',random_state = 40, C= 1)\n",
    "logreg.fit(X_train, y_train)\n",
    "y_predictions_log = logreg.predict(X_test)\n",
    "acc = accuracy_score(y_test, y_predictions_log)\n",
    "cv = cross_val_score(logreg, X_test, y_test,scoring='roc_auc').mean()\n",
    "print(acc)\n",
    "print(cv)\n",
    "\n",
    "\n"
   ]
  },
  {
   "cell_type": "code",
   "execution_count": 31,
   "id": "0369d93e",
   "metadata": {},
   "outputs": [
    {
     "name": "stdout",
     "output_type": "stream",
     "text": [
      "precision: 0.7655172413793103\n",
      "recall: 0.1712962962962963\n",
      "fscore: 0.27994955863808324\n",
      "support: None\n"
     ]
    }
   ],
   "source": [
    "precision, recall, fscore, support = precision_recall_fscore_support(y_test, y_predictions_rf, average='binary')\n",
    "print('precision:', precision )\n",
    "print('recall:',recall)\n",
    "print('fscore:', fscore)\n",
    "print('support:',support)"
   ]
  },
  {
   "cell_type": "markdown",
   "id": "55e16c39",
   "metadata": {},
   "source": [
    "Feature Importances"
   ]
  },
  {
   "cell_type": "code",
   "execution_count": 32,
   "id": "36e6c196",
   "metadata": {},
   "outputs": [
    {
     "name": "stdout",
     "output_type": "stream",
     "text": [
      "                        Features  Importance scores\n",
      "0      NUMBER OF PERSONS INJURED           0.024293\n",
      "1  NUMBER OF PEDESTRIANS INJURED           0.011172\n",
      "2      NUMBER OF CYCLIST INJURED           0.003943\n",
      "3     NUMBER OF MOTORIST INJURED           0.018739\n",
      "4                     ON HOLIDAY           0.004707\n",
      "5                             DD           0.029781\n",
      "6                 begin_of_month           0.004801\n",
      "7               midddle_of_month           0.004798\n",
      "8                   end_of_month           0.005041\n",
      "9                        morning           0.008902\n"
     ]
    },
    {
     "data": {
      "image/png": "[encoded data removed]",
      "text/plain": [
       "<Figure size 720x360 with 1 Axes>"
      ]
     },
     "metadata": {
      "needs_background": "light"
     },
     "output_type": "display_data"
    }
   ],
   "source": [
    "#Feature importances:\n",
    "\n",
    "features = X\n",
    "importances = list(rf.feature_importances_)\n",
    "tab=pd.DataFrame(list(zip(X,importances)),columns =['Features', 'Importance scores']) \n",
    "print(tab[:10])\n",
    "sorted_features =tab.sort_values(by=['Importance scores'], ascending=False)\n",
    "#Visual comparison:\n",
    "plt.figure(figsize=(10,5))\n",
    "index = list(range(len(sorted_features[:10])))\n",
    "_=plt.barh(index,sorted_features['Importance scores'][:10], align='center',color='b')\n",
    "plt.xlabel('Relative Importance',fontsize=15)\n",
    "plt.ylabel('Features',fontsize=15)\n",
    "plt.yticks(index, sorted_features['Features'][:10])\n",
    "plt.title('Feature Importances for Random Forest classifier model',fontsize=15)\n",
    "plt.gca().invert_yaxis()\n",
    "plt.savefig(\"28.png\")\n",
    "plt.show()\n",
    "#len(importances)\n"
   ]
  },
  {
   "cell_type": "markdown",
   "id": "1dc3a1cd",
   "metadata": {},
   "source": [
    "Conclusion and Further Progress"
   ]
  },
  {
   "cell_type": "code",
   "execution_count": 33,
   "id": "20639f7e",
   "metadata": {},
   "outputs": [
    {
     "name": "stdout",
     "output_type": "stream",
     "text": [
      "                                             Features  Importance scores\n",
      "78         CONTRIBUTING FACTOR VEHICLE 1_Unsafe Speed           0.107420\n",
      "75  CONTRIBUTING FACTOR VEHICLE 1_Traffic Control ...           0.071417\n",
      "12                                              night           0.068250\n",
      "11                                            evening           0.066428\n",
      "47               CONTRIBUTING FACTOR VEHICLE 1_Illnes           0.044622\n",
      "63  CONTRIBUTING FACTOR VEHICLE 1_Pedestrian/Bicyc...           0.042150\n",
      "27  CONTRIBUTING FACTOR VEHICLE 1_Alcohol Involvement           0.035851\n",
      "41  CONTRIBUTING FACTOR VEHICLE 1_Failure to Yield...           0.033033\n",
      "9                                             morning           0.031313\n",
      "44  CONTRIBUTING FACTOR VEHICLE 1_Following Too Cl...           0.030206\n"
     ]
    },
    {
     "data": {
      "image/png": "[encoded data removed]",
      "text/plain": [
       "<Figure size 720x360 with 1 Axes>"
      ]
     },
     "metadata": {
      "needs_background": "light"
     },
     "output_type": "display_data"
    }
   ],
   "source": [
    "features = X\n",
    "importances = list(xgb.feature_importances_)\n",
    "tab=pd.DataFrame(list(zip(X,importances)),columns =['Features', 'Importance scores']) \n",
    "\n",
    "sorted_features =tab.sort_values(by=['Importance scores'], ascending=False)\n",
    "print(sorted_features[:10])\n",
    "#Visual comparison:\n",
    "plt.figure(figsize=(10,5))\n",
    "index = list(range(len(sorted_features[:10])))\n",
    "_=plt.barh(index,sorted_features['Importance scores'][:10], align='center',color='b')\n",
    "plt.xlabel('Relative Importance',fontsize=15)\n",
    "plt.ylabel('Features',fontsize=15)\n",
    "plt.yticks(index, sorted_features['Features'][:10])\n",
    "plt.title('Feature Importances for XGBoost classifier model',fontsize=15)\n",
    "plt.gca().invert_yaxis()\n",
    "plt.savefig(\"29.png\")\n",
    "plt.show()\n",
    "#len(importances)\n"
   ]
  },
  {
   "cell_type": "code",
   "execution_count": 34,
   "id": "a5c5f418",
   "metadata": {},
   "outputs": [
    {
     "name": "stdout",
     "output_type": "stream",
     "text": [
      "                                             Features  Importance scores  \\\n",
      "47               CONTRIBUTING FACTOR VEHICLE 1_Illnes           3.628634   \n",
      "63  CONTRIBUTING FACTOR VEHICLE 1_Pedestrian/Bicyc...           2.744386   \n",
      "58  CONTRIBUTING FACTOR VEHICLE 1_Passenger Distra...           2.337243   \n",
      "59  CONTRIBUTING FACTOR VEHICLE 1_Passing Too Closely          -2.301840   \n",
      "42      CONTRIBUTING FACTOR VEHICLE 1_Fatigued/Drowsy          -2.242380   \n",
      "..                                                ...                ...   \n",
      "54  CONTRIBUTING FACTOR VEHICLE 1_Other Lighting D...           0.000000   \n",
      "71       CONTRIBUTING FACTOR VEHICLE 1_Tinted Windows           0.000000   \n",
      "73  CONTRIBUTING FACTOR VEHICLE 1_Tow Hitch Defective           0.000000   \n",
      "81    CONTRIBUTING FACTOR VEHICLE 1_Vehicle Vandalism           0.000000   \n",
      "83  CONTRIBUTING FACTOR VEHICLE 1_Windshield Inade...           0.000000   \n",
      "\n",
      "    Absolute_val  \n",
      "47      3.628634  \n",
      "63      2.744386  \n",
      "58      2.337243  \n",
      "59      2.301840  \n",
      "42      2.242380  \n",
      "..           ...  \n",
      "54      0.000000  \n",
      "71      0.000000  \n",
      "73      0.000000  \n",
      "81      0.000000  \n",
      "83      0.000000  \n",
      "\n",
      "[493 rows x 3 columns]\n"
     ]
    },
    {
     "data": {
      "image/png": "[encoded data removed]",
      "text/plain": [
       "<Figure size 720x360 with 1 Axes>"
      ]
     },
     "metadata": {
      "needs_background": "light"
     },
     "output_type": "display_data"
    }
   ],
   "source": [
    "features = X\n",
    "importances = logreg.coef_\n",
    "absolute_importances = abs(logreg.coef_)\n",
    "tab=pd.DataFrame(list(zip(X,importances[0], absolute_importances[0])),columns =['Features', 'Importance scores','Absolute_val']) \n",
    "\n",
    "sorted_features =tab.sort_values(by=['Absolute_val'], ascending=False)\n",
    "print(sorted_features)\n",
    "#Visual comparison:\n",
    "plt.figure(figsize=(10,5))\n",
    "index = list(range(len(sorted_features[:10])))\n",
    "_=plt.barh(index,sorted_features['Importance scores'][:10], align='center',color='b')\n",
    "plt.xlabel('Relative Importance',fontsize=15)\n",
    "plt.ylabel('Features',fontsize=15)\n",
    "plt.yticks(index, sorted_features['Features'][:10])\n",
    "plt.title('Feature Coefficients for Logistic Regression model',fontsize=15)\n",
    "plt.gca().invert_yaxis()\n",
    "plt.savefig(\"29.png\")\n",
    "plt.show()\n",
    "#len(importances)"
   ]
  },
  {
   "cell_type": "markdown",
   "id": "793c3d75",
   "metadata": {},
   "source": [
    "Random Forest roc score "
   ]
  },
  {
   "cell_type": "code",
   "execution_count": 35,
   "id": "27a1ab09",
   "metadata": {},
   "outputs": [
    {
     "name": "stdout",
     "output_type": "stream",
     "text": [
      "ROC-AUC Score: 0.7466364885549294\n"
     ]
    }
   ],
   "source": [
    "#plot roc curves\n",
    "\n",
    "from sklearn.metrics import auc, roc_curve, roc_auc_score\n",
    "y_scores_rf = rf.predict_proba(X_test)\n",
    "y_scores_rf = y_scores_rf[:,1]\n",
    "auroc = roc_auc_score(y_test, y_scores_rf)\n",
    "print(\"ROC-AUC Score:\", auroc)"
   ]
  },
  {
   "cell_type": "code",
   "execution_count": 36,
   "id": "2ffd7da6",
   "metadata": {},
   "outputs": [
    {
     "data": {
      "image/png": "[encoded data removed]",
      "text/plain": [
       "<Figure size 720x360 with 1 Axes>"
      ]
     },
     "metadata": {
      "needs_background": "light"
     },
     "output_type": "display_data"
    }
   ],
   "source": [
    "false_positive_rate, true_positive_rate, thresholds = roc_curve(y_test, y_scores_rf)\n",
    "def plot_roc_curve(false_positive_rate, true_positive_rate, label=None):\n",
    "    plt.plot(false_positive_rate, true_positive_rate, linewidth=2, label=label)\n",
    "    plt.plot([0, 1], [0, 1], 'r', linewidth=4)\n",
    "    plt.axis([0, 1, 0, 1])\n",
    "    plt.xlabel('False Positive Rate (FPR)', fontsize=15)\n",
    "    plt.ylabel('True Positive Rate (TPR)', fontsize=15)\n",
    "    plt.title('ROC curve (RF)',fontsize=15)\n",
    "\n",
    "plt.figure(figsize=(10, 5))\n",
    "plot_roc_curve(false_positive_rate, true_positive_rate)\n",
    "plt.savefig(\"30.png\")\n",
    "plt.show()"
   ]
  },
  {
   "cell_type": "code",
   "execution_count": 37,
   "id": "40342e73",
   "metadata": {},
   "outputs": [
    {
     "name": "stdout",
     "output_type": "stream",
     "text": [
      "ROC-AUC Score: 0.764498635558957\n"
     ]
    }
   ],
   "source": [
    "\n",
    "y_scores_xgb = xgb.predict_proba(X_test)\n",
    "y_scores_xgb = y_scores_xgb[:,1]\n",
    "auroc = roc_auc_score(y_test, y_scores_xgb)\n",
    "print(\"ROC-AUC Score:\", auroc)"
   ]
  },
  {
   "cell_type": "code",
   "execution_count": 38,
   "id": "e3337051",
   "metadata": {},
   "outputs": [
    {
     "data": {
      "image/png": "[encoded data removed]",
      "text/plain": [
       "<Figure size 720x360 with 1 Axes>"
      ]
     },
     "metadata": {
      "needs_background": "light"
     },
     "output_type": "display_data"
    }
   ],
   "source": [
    "false_positive_rate, true_positive_rate, thresholds = roc_curve(y_test, y_scores_xgb)\n",
    "def plot_roc_curve(false_positive_rate, true_positive_rate, label=None):\n",
    "    plt.plot(false_positive_rate, true_positive_rate, linewidth=2, label=label)\n",
    "    plt.plot([0, 1], [0, 1], 'r', linewidth=4)\n",
    "    plt.axis([0, 1, 0, 1])\n",
    "    plt.xlabel('False Positive Rate (FPR)', fontsize=15)\n",
    "    plt.ylabel('True Positive Rate (TPR)', fontsize=15)\n",
    "    plt.title('ROC curve (XGB)',fontsize=15)\n",
    "\n",
    "plt.figure(figsize=(10, 5))\n",
    "plot_roc_curve(false_positive_rate, true_positive_rate)\n",
    "plt.savefig(\"30.png\")\n",
    "plt.show()"
   ]
  },
  {
   "cell_type": "code",
   "execution_count": 39,
   "id": "7a6d8688",
   "metadata": {},
   "outputs": [
    {
     "name": "stdout",
     "output_type": "stream",
     "text": [
      "ROC-AUC Score: 0.7479028483189932\n"
     ]
    }
   ],
   "source": [
    "y_scores_logreg = logreg.predict_proba(X_test)\n",
    "y_scores_logreg = y_scores_logreg[:,1]\n",
    "auroc = roc_auc_score(y_test, y_scores_logreg)\n",
    "print(\"ROC-AUC Score:\", auroc)"
   ]
  },
  {
   "cell_type": "code",
   "execution_count": 40,
   "id": "0689da6a",
   "metadata": {},
   "outputs": [
    {
     "data": {
      "image/png": "[encoded data removed]",
      "text/plain": [
       "<Figure size 720x360 with 1 Axes>"
      ]
     },
     "metadata": {
      "needs_background": "light"
     },
     "output_type": "display_data"
    }
   ],
   "source": [
    "false_positive_rate, true_positive_rate, thresholds = roc_curve(y_test, y_scores_logreg)###logreg\n",
    "def plot_roc_curve(false_positive_rate, true_positive_rate, label=None):\n",
    "    plt.plot(false_positive_rate, true_positive_rate, linewidth=2, label=label)\n",
    "    plt.plot([0, 1], [0, 1], 'r', linewidth=4)\n",
    "    plt.axis([0, 1, 0, 1])\n",
    "    plt.xlabel('False Positive Rate (FPR)', fontsize=15)\n",
    "    plt.ylabel('True Positive Rate (TPR)', fontsize=15)\n",
    "    plt.title('ROC curve (LogReg)',fontsize=15)\n",
    "\n",
    "plt.figure(figsize=(10, 5))\n",
    "plot_roc_curve(false_positive_rate, true_positive_rate)\n",
    "plt.savefig(\"30.png\")\n",
    "plt.show()"
   ]
  },
  {
   "cell_type": "code",
   "execution_count": 41,
   "id": "b0c486cc",
   "metadata": {},
   "outputs": [
    {
     "name": "stdout",
     "output_type": "stream",
     "text": [
      "Random Forest precision is: 0.7655172413793103\n",
      "Random Forest recall is: 0.1712962962962963\n",
      "Random Forest f1-score is: 0.27994955863808324\n",
      "XGboost precision is: 0.7065217391304348\n",
      "XGboost recall is: 0.2006172839506173\n",
      "XGboost f1-score is: 0.31250000000000006\n",
      "Logistic Regression precision is: 0.6514522821576764\n",
      "Logistic Regression recall is: 0.24228395061728394\n",
      "Logistic Regression f1-score is: 0.3532058492688414\n"
     ]
    }
   ],
   "source": [
    "def measurements(model, y_true, y_pred):\n",
    "    print(str(model) +\" precision is: \" + str(precision_score(y_true, y_pred)))\n",
    "    print(str(model) + \" recall is: \" + str(recall_score(y_true, y_pred)))\n",
    "    print(str(model)+ \" f1-score is: \" + str(f1_score(y_true, y_pred)))\n",
    "    \n",
    "measurements('Random Forest', y_test, y_predictions_rf)\n",
    "measurements('XGboost', y_test ,y_predictions_xgb)\n",
    "measurements('Logistic Regression',  y_test ,y_predictions_log)"
   ]
  },
  {
   "cell_type": "code",
   "execution_count": 45,
   "id": "0900b040",
   "metadata": {},
   "outputs": [
    {
     "data": {
      "image/png": "[encoded data removed]",
      "text/plain": [
       "<Figure size 720x360 with 1 Axes>"
      ]
     },
     "metadata": {
      "needs_background": "light"
     },
     "output_type": "display_data"
    }
   ],
   "source": [
    "false_positive_rate1, true_positive_rate1, thresholds1 = roc_curve(y_test, y_scores_logreg)###logreg\n",
    "false_positive_rate2, true_positive_rate2, thresholds2 = roc_curve(y_test, y_scores_xgb)\n",
    "false_positive_rate3, true_positive_rate3, thresholds3 = roc_curve(y_test, y_scores_rf)\n",
    "def plot_roc_curve(false_positive_rate, true_positive_rate, label=None):\n",
    "    plt.plot(false_positive_rate1, true_positive_rate1, linewidth=2, label='Logistic Regression')\n",
    "    plt.plot(false_positive_rate2, true_positive_rate2, linewidth=2, label='XGBoost')\n",
    "    plt.plot(false_positive_rate3, true_positive_rate3, linewidth=2, label='Random Forest')\n",
    "    plt.plot([0, 1], [0, 1], 'r', linewidth=4)\n",
    "    plt.axis([0, 1, 0, 1])\n",
    "    plt.xlabel('False Positive Rate (FPR)', fontsize=15)\n",
    "    plt.ylabel('True Positive Rate (TPR)', fontsize=15)\n",
    "    plt.title('ROC curve',fontsize=15)\n",
    "    plt.legend()\n",
    "\n",
    "plt.figure(figsize=(10, 5))\n",
    "plot_roc_curve(false_positive_rate, true_positive_rate)\n",
    "plt.savefig(\"30.png\")\n",
    "plt.show()"
   ]
  },
  {
   "cell_type": "code",
   "execution_count": null,
   "id": "c6d027fa",
   "metadata": {},
   "outputs": [],
   "source": []
  },
  {
   "cell_type": "code",
   "execution_count": null,
   "id": "2e513c1f",
   "metadata": {},
   "outputs": [],
   "source": []
  }
 ],
 "metadata": {
  "kernelspec": {
   "display_name": "Python 3",
   "language": "python",
   "name": "python3"
  },
  "language_info": {
   "codemirror_mode": {
    "name": "ipython",
    "version": 3
   },
   "file_extension": ".py",
   "mimetype": "text/x-python",
   "name": "python",
   "nbconvert_exporter": "python",
   "pygments_lexer": "ipython3",
   "version": "3.8.8"
  }
 },
 "nbformat": 4,
 "nbformat_minor": 5
}
